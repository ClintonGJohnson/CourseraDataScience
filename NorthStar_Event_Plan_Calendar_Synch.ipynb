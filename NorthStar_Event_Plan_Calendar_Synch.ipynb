{
  "nbformat": 4,
  "nbformat_minor": 0,
  "metadata": {
    "colab": {
      "name": "NorthStar Event Plan Calendar Synch.ipynb",
      "provenance": [],
      "collapsed_sections": [],
      "mount_file_id": "1oMe8iKl1vjJfcXZyKwPSaPun7SO8ybWl",
      "authorship_tag": "ABX9TyOaLr2QsbKugUdTLu5Oo0Pa",
      "include_colab_link": true
    },
    "kernelspec": {
      "display_name": "Python 3",
      "name": "python3"
    },
    "language_info": {
      "name": "python"
    }
  },
  "cells": [
    {
      "cell_type": "markdown",
      "metadata": {
        "id": "view-in-github",
        "colab_type": "text"
      },
      "source": [
        "<a href=\"https://colab.research.google.com/github/ClintonGJohnson/CourseraDataScience/blob/master/NorthStar_Event_Plan_Calendar_Synch.ipynb\" target=\"_parent\"><img src=\"https://colab.research.google.com/assets/colab-badge.svg\" alt=\"Open In Colab\"/></a>"
      ]
    },
    {
      "cell_type": "markdown",
      "metadata": {
        "id": "z5H_Vz_YTecN"
      },
      "source": [
        "# NorthStar Event Planning Calendar Synch"
      ]
    },
    {
      "cell_type": "markdown",
      "metadata": {
        "id": "MbvXtXryTqg0"
      },
      "source": [
        "## Airtable Details"
      ]
    },
    {
      "cell_type": "markdown",
      "metadata": {
        "id": "dhViLCmGTwYX"
      },
      "source": [
        "### Database \n",
        "\n",
        "\n",
        "*   Workspace: NorthStar of GIS\n",
        "*   Base: Event planning\n",
        "*   Base ID: appGAAwadeXNKSM3h\n",
        "*   API Key: keyGy0eUHEDmBEBfQ\n",
        "*   API Docs: https://airtable.com/appGAAwadeXNKSM3h/api/docs \n",
        "\n"
      ]
    },
    {
      "cell_type": "markdown",
      "metadata": {
        "id": "42ad8xhIV1oZ"
      },
      "source": [
        "#### Installations"
      ]
    },
    {
      "cell_type": "code",
      "metadata": {
        "colab": {
          "base_uri": "https://localhost:8080/"
        },
        "id": "PkLjcUixpe4K",
        "outputId": "e0281ead-daf9-48ee-ad6e-7dd8740edf9a"
      },
      "source": [
        "!pip install pandas"
      ],
      "execution_count": null,
      "outputs": [
        {
          "output_type": "stream",
          "text": [
            "Requirement already satisfied: pandas in /usr/local/lib/python3.7/dist-packages (1.1.5)\n",
            "Requirement already satisfied: python-dateutil>=2.7.3 in /usr/local/lib/python3.7/dist-packages (from pandas) (2.8.1)\n",
            "Requirement already satisfied: numpy>=1.15.4 in /usr/local/lib/python3.7/dist-packages (from pandas) (1.19.5)\n",
            "Requirement already satisfied: pytz>=2017.2 in /usr/local/lib/python3.7/dist-packages (from pandas) (2018.9)\n",
            "Requirement already satisfied: six>=1.5 in /usr/local/lib/python3.7/dist-packages (from python-dateutil>=2.7.3->pandas) (1.15.0)\n"
          ],
          "name": "stdout"
        }
      ]
    },
    {
      "cell_type": "code",
      "metadata": {
        "id": "oDtOJK15YnBZ"
      },
      "source": [
        "import pandas as pd\n",
        "import requests"
      ],
      "execution_count": null,
      "outputs": []
    },
    {
      "cell_type": "code",
      "metadata": {
        "colab": {
          "base_uri": "https://localhost:8080/"
        },
        "id": "eymnFAC9kgYH",
        "outputId": "b3058e0a-70fc-48e8-eb0e-519ad33e1ae3"
      },
      "source": [
        "!pip install airtable"
      ],
      "execution_count": null,
      "outputs": [
        {
          "output_type": "stream",
          "text": [
            "Collecting airtable\n",
            "  Downloading https://files.pythonhosted.org/packages/ec/2b/e5885493796ae222eac6d15ffab093cce8fe63bf10ee920ac205fa65e279/airtable-0.4.8-py2.py3-none-any.whl\n",
            "Requirement already satisfied: requests>=2.20.0 in /usr/local/lib/python3.7/dist-packages (from airtable) (2.23.0)\n",
            "Requirement already satisfied: six in /usr/local/lib/python3.7/dist-packages (from airtable) (1.15.0)\n",
            "Requirement already satisfied: certifi>=2017.4.17 in /usr/local/lib/python3.7/dist-packages (from requests>=2.20.0->airtable) (2021.5.30)\n",
            "Requirement already satisfied: idna<3,>=2.5 in /usr/local/lib/python3.7/dist-packages (from requests>=2.20.0->airtable) (2.10)\n",
            "Requirement already satisfied: urllib3!=1.25.0,!=1.25.1,<1.26,>=1.21.1 in /usr/local/lib/python3.7/dist-packages (from requests>=2.20.0->airtable) (1.24.3)\n",
            "Requirement already satisfied: chardet<4,>=3.0.2 in /usr/local/lib/python3.7/dist-packages (from requests>=2.20.0->airtable) (3.0.4)\n",
            "Installing collected packages: airtable\n",
            "Successfully installed airtable-0.4.8\n"
          ],
          "name": "stdout"
        }
      ]
    },
    {
      "cell_type": "code",
      "metadata": {
        "id": "KYN7s0mzXfaI"
      },
      "source": [
        "try:\n",
        "  import airtable \n",
        "  from airtable import airtable \n",
        "except:\n",
        "  !pip install airtable\n",
        "  import airtable \n",
        "  from airtable import airtable "
      ],
      "execution_count": null,
      "outputs": []
    },
    {
      "cell_type": "markdown",
      "metadata": {
        "id": "s-bxcM0DV_f9"
      },
      "source": [
        "#### Access Airtable Data"
      ]
    },
    {
      "cell_type": "code",
      "metadata": {
        "id": "T-mdevbJpnE0"
      },
      "source": [
        "api_key_airtable = \"keyGy0eUHEDmBEBfQ\"\n",
        "airtable_base_id = \"appGAAwadeXNKSM3h\""
      ],
      "execution_count": null,
      "outputs": []
    },
    {
      "cell_type": "code",
      "metadata": {
        "id": "77nQB2wrmDOH"
      },
      "source": [
        "# table variables\n",
        "tbl_schedule = \"Schedule\"\n",
        "tbl_themes_event_series = \"Themes & Event Series\"\n",
        "tbl_event_staff = \"Event staff\"\n",
        "tbl_organizations = \"Organizations\""
      ],
      "execution_count": null,
      "outputs": []
    },
    {
      "cell_type": "code",
      "metadata": {
        "id": "6r4IimCVYDjM"
      },
      "source": [
        "at = airtable.Airtable(base_id=airtable_base_id, api_key=api_key_airtable)"
      ],
      "execution_count": null,
      "outputs": []
    },
    {
      "cell_type": "code",
      "metadata": {
        "colab": {
          "base_uri": "https://localhost:8080/",
          "height": 461
        },
        "id": "5ZwSx40ommlC",
        "outputId": "8e3bc4d5-f1de-4159-b7ed-4adf311e53e3"
      },
      "source": [
        "#Themes & Event Series\n",
        "df_themes_event_series = pd.DataFrame.from_records(\n",
        "    (r['fields'] for r in at.iterate(tbl_themes_event_series)))\n",
        "df_themes_event_series.head()"
      ],
      "execution_count": null,
      "outputs": [
        {
          "output_type": "execute_result",
          "data": {
            "text/html": [
              "<div>\n",
              "<style scoped>\n",
              "    .dataframe tbody tr th:only-of-type {\n",
              "        vertical-align: middle;\n",
              "    }\n",
              "\n",
              "    .dataframe tbody tr th {\n",
              "        vertical-align: top;\n",
              "    }\n",
              "\n",
              "    .dataframe thead th {\n",
              "        text-align: right;\n",
              "    }\n",
              "</style>\n",
              "<table border=\"1\" class=\"dataframe\">\n",
              "  <thead>\n",
              "    <tr style=\"text-align: right;\">\n",
              "      <th></th>\n",
              "      <th>Event Scales</th>\n",
              "      <th>Theme or Series</th>\n",
              "      <th>Sessions</th>\n",
              "      <th>Description</th>\n",
              "      <th>End</th>\n",
              "      <th>Start</th>\n",
              "      <th>Subtitle</th>\n",
              "      <th>Session Count</th>\n",
              "      <th>Dry Runs (Weeks) (from Event Scales)</th>\n",
              "      <th>Final Confirmations and Guest Notifications (from Event Scales)</th>\n",
              "      <th>Photos, Biographies, and Contracts (Weeks) (from Event Scales)</th>\n",
              "      <th>Speakers, Location, and Promotion (Weeks) (from Event Scales)</th>\n",
              "      <th>Define Goals (Weeks) (from Event Scales)</th>\n",
              "      <th>Call for Speakers Notice (Weeks) (from Event Scales)</th>\n",
              "      <th>Save the Date Notice (Weeks) (from Event Scales)</th>\n",
              "      <th>Save the Date</th>\n",
              "      <th>Call for Speakers</th>\n",
              "      <th>Define Goals</th>\n",
              "      <th>Speakers, Location, and Promotion</th>\n",
              "      <th>Photos, Biographies, and Contracts</th>\n",
              "      <th>Final Confirmations and Guest Notifications</th>\n",
              "      <th>Begin Dry Runs</th>\n",
              "      <th>Coordinator</th>\n",
              "      <th>Organization (from Coordinator)</th>\n",
              "    </tr>\n",
              "  </thead>\n",
              "  <tbody>\n",
              "    <tr>\n",
              "      <th>0</th>\n",
              "      <td>[recEC2MVjUUMmvIpZ]</td>\n",
              "      <td>Black History Month 2022 (February)</td>\n",
              "      <td>[recVJ7KPtithdCmyy, recRDwbZPIHu4fxHR]</td>\n",
              "      <td>**2022- Black Health and Wellness**\\n“When whi...</td>\n",
              "      <td>2022-02-28</td>\n",
              "      <td>2022-02-01</td>\n",
              "      <td>Black Health and Wellness</td>\n",
              "      <td>2</td>\n",
              "      <td>[4]</td>\n",
              "      <td>[5]</td>\n",
              "      <td>[6]</td>\n",
              "      <td>[12]</td>\n",
              "      <td>[20]</td>\n",
              "      <td>[18]</td>\n",
              "      <td>[24]</td>\n",
              "      <td>2021-08-17</td>\n",
              "      <td>2021-09-28</td>\n",
              "      <td>2021-09-14</td>\n",
              "      <td>2021-11-09</td>\n",
              "      <td>2021-12-21</td>\n",
              "      <td>2021-12-28</td>\n",
              "      <td>2022-01-04</td>\n",
              "      <td>NaN</td>\n",
              "      <td>NaN</td>\n",
              "    </tr>\n",
              "    <tr>\n",
              "      <th>1</th>\n",
              "      <td>[recEC2MVjUUMmvIpZ]</td>\n",
              "      <td>NorthStar &amp; Blacks in GIS Present: Homecoming ...</td>\n",
              "      <td>NaN</td>\n",
              "      <td>NaN</td>\n",
              "      <td>2021-07-15</td>\n",
              "      <td>2021-07-10</td>\n",
              "      <td>Creating and Innovating through and Beyond the...</td>\n",
              "      <td>0</td>\n",
              "      <td>[4]</td>\n",
              "      <td>[5]</td>\n",
              "      <td>[6]</td>\n",
              "      <td>[12]</td>\n",
              "      <td>[20]</td>\n",
              "      <td>[18]</td>\n",
              "      <td>[24]</td>\n",
              "      <td>2021-01-23</td>\n",
              "      <td>2021-03-06</td>\n",
              "      <td>2021-02-20</td>\n",
              "      <td>2021-04-17</td>\n",
              "      <td>2021-05-29</td>\n",
              "      <td>2021-06-05</td>\n",
              "      <td>2021-06-12</td>\n",
              "      <td>NaN</td>\n",
              "      <td>NaN</td>\n",
              "    </tr>\n",
              "    <tr>\n",
              "      <th>2</th>\n",
              "      <td>[recEC2MVjUUMmvIpZ]</td>\n",
              "      <td>Black History Month 2021 (February)</td>\n",
              "      <td>[recsV39vujdmfTpMJ, reckFDXBsMuFiYTY6]</td>\n",
              "      <td>NaN</td>\n",
              "      <td>2021-02-26</td>\n",
              "      <td>2021-02-01</td>\n",
              "      <td>Who Maps the Black Family</td>\n",
              "      <td>2</td>\n",
              "      <td>[4]</td>\n",
              "      <td>[5]</td>\n",
              "      <td>[6]</td>\n",
              "      <td>[12]</td>\n",
              "      <td>[20]</td>\n",
              "      <td>[18]</td>\n",
              "      <td>[24]</td>\n",
              "      <td>2020-08-17</td>\n",
              "      <td>2020-09-28</td>\n",
              "      <td>2020-09-14</td>\n",
              "      <td>2020-11-09</td>\n",
              "      <td>2020-12-21</td>\n",
              "      <td>2020-12-28</td>\n",
              "      <td>2021-01-04</td>\n",
              "      <td>[recvVx1vAvyn36nSP]</td>\n",
              "      <td>[reciNz764fdcXkneV]</td>\n",
              "    </tr>\n",
              "  </tbody>\n",
              "</table>\n",
              "</div>"
            ],
            "text/plain": [
              "          Event Scales  ... Organization (from Coordinator)\n",
              "0  [recEC2MVjUUMmvIpZ]  ...                             NaN\n",
              "1  [recEC2MVjUUMmvIpZ]  ...                             NaN\n",
              "2  [recEC2MVjUUMmvIpZ]  ...             [reciNz764fdcXkneV]\n",
              "\n",
              "[3 rows x 24 columns]"
            ]
          },
          "metadata": {
            "tags": []
          },
          "execution_count": 79
        }
      ]
    },
    {
      "cell_type": "code",
      "metadata": {
        "colab": {
          "base_uri": "https://localhost:8080/",
          "height": 474
        },
        "id": "zVvxvZ7CbQs8",
        "outputId": "abed71f4-b23a-4e0c-f76a-76eebc701687"
      },
      "source": [
        "#Schedule\n",
        "df_schedule = pd.DataFrame.from_records(\n",
        "    (r['fields'] for r in at.iterate(tbl_schedule)))\n",
        "df_schedule.head()"
      ],
      "execution_count": null,
      "outputs": [
        {
          "output_type": "execute_result",
          "data": {
            "text/html": [
              "<div>\n",
              "<style scoped>\n",
              "    .dataframe tbody tr th:only-of-type {\n",
              "        vertical-align: middle;\n",
              "    }\n",
              "\n",
              "    .dataframe tbody tr th {\n",
              "        vertical-align: top;\n",
              "    }\n",
              "\n",
              "    .dataframe thead th {\n",
              "        text-align: right;\n",
              "    }\n",
              "</style>\n",
              "<table border=\"1\" class=\"dataframe\">\n",
              "  <thead>\n",
              "    <tr style=\"text-align: right;\">\n",
              "      <th></th>\n",
              "      <th>Theme or Series</th>\n",
              "      <th>Primary Contact (Coordinator)</th>\n",
              "      <th>Start</th>\n",
              "      <th>Primary Online Platform</th>\n",
              "      <th>End</th>\n",
              "      <th>Activity</th>\n",
              "      <th>Organization (from Primary Contact (Coordinator))</th>\n",
              "      <th>Activity Types</th>\n",
              "      <th>Coordinator (from Theme or Series)</th>\n",
              "      <th>Brief Description</th>\n",
              "    </tr>\n",
              "  </thead>\n",
              "  <tbody>\n",
              "    <tr>\n",
              "      <th>0</th>\n",
              "      <td>[rec6XZaSxnPQkHw5L]</td>\n",
              "      <td>[reczokgtNqe49lPub]</td>\n",
              "      <td>2022-02-28T15:00:00.000Z</td>\n",
              "      <td>[rec9p7SGOCqo7EbZA]</td>\n",
              "      <td>2022-02-28T16:30:00.000Z</td>\n",
              "      <td>Black History Month 2022 Final Event</td>\n",
              "      <td>[reciNz764fdcXkneV]</td>\n",
              "      <td>NaN</td>\n",
              "      <td>NaN</td>\n",
              "      <td>NaN</td>\n",
              "    </tr>\n",
              "    <tr>\n",
              "      <th>1</th>\n",
              "      <td>[rec6XZaSxnPQkHw5L]</td>\n",
              "      <td>[reczokgtNqe49lPub]</td>\n",
              "      <td>NaN</td>\n",
              "      <td>[rec9p7SGOCqo7EbZA]</td>\n",
              "      <td>NaN</td>\n",
              "      <td>Black History Month 2022 Keynote</td>\n",
              "      <td>[reciNz764fdcXkneV]</td>\n",
              "      <td>NaN</td>\n",
              "      <td>NaN</td>\n",
              "      <td>NaN</td>\n",
              "    </tr>\n",
              "    <tr>\n",
              "      <th>2</th>\n",
              "      <td>[recDdA485l6BO5R4y]</td>\n",
              "      <td>NaN</td>\n",
              "      <td>2021-02-05T12:00:00.000Z</td>\n",
              "      <td>[recCZ4fPth3R72nWo]</td>\n",
              "      <td>2021-02-05T13:00:00.000Z</td>\n",
              "      <td>Racial Equity for Resilient &amp; Prosperous Famil...</td>\n",
              "      <td>NaN</td>\n",
              "      <td>[Presentation]</td>\n",
              "      <td>[recvVx1vAvyn36nSP]</td>\n",
              "      <td>NaN</td>\n",
              "    </tr>\n",
              "    <tr>\n",
              "      <th>3</th>\n",
              "      <td>[recDdA485l6BO5R4y]</td>\n",
              "      <td>[reczokgtNqe49lPub]</td>\n",
              "      <td>2021-02-01T12:00:00.000Z</td>\n",
              "      <td>[recCZ4fPth3R72nWo]</td>\n",
              "      <td>2021-02-01T13:00:00.000Z</td>\n",
              "      <td>Black History Month 2021 (February) Keynote/Pl...</td>\n",
              "      <td>[reciNz764fdcXkneV]</td>\n",
              "      <td>[Keynote]</td>\n",
              "      <td>[recvVx1vAvyn36nSP]</td>\n",
              "      <td>Panel of representatives from each Black ERG d...</td>\n",
              "    </tr>\n",
              "  </tbody>\n",
              "</table>\n",
              "</div>"
            ],
            "text/plain": [
              "       Theme or Series  ...                                  Brief Description\n",
              "0  [rec6XZaSxnPQkHw5L]  ...                                                NaN\n",
              "1  [rec6XZaSxnPQkHw5L]  ...                                                NaN\n",
              "2  [recDdA485l6BO5R4y]  ...                                                NaN\n",
              "3  [recDdA485l6BO5R4y]  ...  Panel of representatives from each Black ERG d...\n",
              "\n",
              "[4 rows x 10 columns]"
            ]
          },
          "metadata": {
            "tags": []
          },
          "execution_count": 80
        }
      ]
    },
    {
      "cell_type": "code",
      "metadata": {
        "colab": {
          "base_uri": "https://localhost:8080/",
          "height": 254
        },
        "id": "vOrpKOpHqDYo",
        "outputId": "900b7cd8-5413-4db1-8bee-6e50556af6e1"
      },
      "source": [
        "#Schedule\n",
        "df_event_staff = pd.DataFrame.from_records(\n",
        "    (r['fields'] for r in at.iterate(tbl_event_staff)))\n",
        "df_event_staff.head()"
      ],
      "execution_count": null,
      "outputs": [
        {
          "output_type": "execute_result",
          "data": {
            "text/html": [
              "<div>\n",
              "<style scoped>\n",
              "    .dataframe tbody tr th:only-of-type {\n",
              "        vertical-align: middle;\n",
              "    }\n",
              "\n",
              "    .dataframe tbody tr th {\n",
              "        vertical-align: top;\n",
              "    }\n",
              "\n",
              "    .dataframe thead th {\n",
              "        text-align: right;\n",
              "    }\n",
              "</style>\n",
              "<table border=\"1\" class=\"dataframe\">\n",
              "  <thead>\n",
              "    <tr style=\"text-align: right;\">\n",
              "      <th></th>\n",
              "      <th>Role in Organization</th>\n",
              "      <th>Organization</th>\n",
              "      <th>Name</th>\n",
              "      <th>Themes &amp; Event Series</th>\n",
              "      <th>Schedule</th>\n",
              "      <th>Phone</th>\n",
              "      <th>Email</th>\n",
              "    </tr>\n",
              "  </thead>\n",
              "  <tbody>\n",
              "    <tr>\n",
              "      <th>0</th>\n",
              "      <td>Leader</td>\n",
              "      <td>[recW6nuVQjtun6khs]</td>\n",
              "      <td>Tyonne Crump-Talley</td>\n",
              "      <td>NaN</td>\n",
              "      <td>NaN</td>\n",
              "      <td>NaN</td>\n",
              "      <td>NaN</td>\n",
              "    </tr>\n",
              "    <tr>\n",
              "      <th>1</th>\n",
              "      <td>Co-Chair/Vice-Chair</td>\n",
              "      <td>[reciNz764fdcXkneV]</td>\n",
              "      <td>Aisha Jenkins</td>\n",
              "      <td>NaN</td>\n",
              "      <td>NaN</td>\n",
              "      <td>NaN</td>\n",
              "      <td>NaN</td>\n",
              "    </tr>\n",
              "    <tr>\n",
              "      <th>2</th>\n",
              "      <td>NaN</td>\n",
              "      <td>[reciNz764fdcXkneV]</td>\n",
              "      <td>Dynasty Machado</td>\n",
              "      <td>[recDdA485l6BO5R4y]</td>\n",
              "      <td>NaN</td>\n",
              "      <td>NaN</td>\n",
              "      <td>NaN</td>\n",
              "    </tr>\n",
              "    <tr>\n",
              "      <th>3</th>\n",
              "      <td>Chair</td>\n",
              "      <td>[reciNz764fdcXkneV]</td>\n",
              "      <td>Clinton Johnson</td>\n",
              "      <td>NaN</td>\n",
              "      <td>[recsV39vujdmfTpMJ, recRDwbZPIHu4fxHR, recVJ7K...</td>\n",
              "      <td>(215) 821-6008</td>\n",
              "      <td>clintongjohnson@gmail.com</td>\n",
              "    </tr>\n",
              "  </tbody>\n",
              "</table>\n",
              "</div>"
            ],
            "text/plain": [
              "  Role in Organization  ...                      Email\n",
              "0               Leader  ...                        NaN\n",
              "1  Co-Chair/Vice-Chair  ...                        NaN\n",
              "2                  NaN  ...                        NaN\n",
              "3                Chair  ...  clintongjohnson@gmail.com\n",
              "\n",
              "[4 rows x 7 columns]"
            ]
          },
          "metadata": {
            "tags": []
          },
          "execution_count": 100
        }
      ]
    },
    {
      "cell_type": "code",
      "metadata": {
        "colab": {
          "base_uri": "https://localhost:8080/",
          "height": 110
        },
        "id": "wEpxURC6UfoE",
        "outputId": "07845913-eb4e-4a1b-bf93-9cbc6e630ce4"
      },
      "source": [
        "#Schedule\n",
        "df_organizations = pd.DataFrame.from_records(\n",
        "    (r['fields'] for r in at.iterate(tbl_organizations)))\n",
        "df_organizations.head()"
      ],
      "execution_count": null,
      "outputs": [
        {
          "output_type": "execute_result",
          "data": {
            "text/html": [
              "<div>\n",
              "<style scoped>\n",
              "    .dataframe tbody tr th:only-of-type {\n",
              "        vertical-align: middle;\n",
              "    }\n",
              "\n",
              "    .dataframe tbody tr th {\n",
              "        vertical-align: top;\n",
              "    }\n",
              "\n",
              "    .dataframe thead th {\n",
              "        text-align: right;\n",
              "    }\n",
              "</style>\n",
              "<table border=\"1\" class=\"dataframe\">\n",
              "  <thead>\n",
              "    <tr style=\"text-align: right;\">\n",
              "      <th></th>\n",
              "      <th>Event staff</th>\n",
              "      <th>Name</th>\n",
              "    </tr>\n",
              "  </thead>\n",
              "  <tbody>\n",
              "    <tr>\n",
              "      <th>0</th>\n",
              "      <td>[recWtXzcWEIiArMTi]</td>\n",
              "      <td>HERE Unity &amp; Power</td>\n",
              "    </tr>\n",
              "    <tr>\n",
              "      <th>1</th>\n",
              "      <td>[reczokgtNqe49lPub, recdZZpOuqp9bX1Kb, recvVx1...</td>\n",
              "      <td>NorthStar</td>\n",
              "    </tr>\n",
              "  </tbody>\n",
              "</table>\n",
              "</div>"
            ],
            "text/plain": [
              "                                         Event staff                Name\n",
              "0                                [recWtXzcWEIiArMTi]  HERE Unity & Power\n",
              "1  [reczokgtNqe49lPub, recdZZpOuqp9bX1Kb, recvVx1...           NorthStar"
            ]
          },
          "metadata": {
            "tags": []
          },
          "execution_count": 101
        }
      ]
    },
    {
      "cell_type": "code",
      "metadata": {
        "colab": {
          "base_uri": "https://localhost:8080/"
        },
        "id": "RK-hMGDToCEG",
        "outputId": "39d9d33f-e77a-4ca8-b006-a936d25558bd"
      },
      "source": [
        "dic=at.get(tbl_organizations)\n",
        "dic"
      ],
      "execution_count": null,
      "outputs": [
        {
          "output_type": "execute_result",
          "data": {
            "text/plain": [
              "OrderedDict([('records',\n",
              "              [OrderedDict([('id', 'recW6nuVQjtun6khs'),\n",
              "                            ('fields',\n",
              "                             OrderedDict([('Event staff',\n",
              "                                           ['recWtXzcWEIiArMTi']),\n",
              "                                          ('Name', 'HERE Unity & Power')])),\n",
              "                            ('createdTime', '2021-01-14T03:13:26.000Z')]),\n",
              "               OrderedDict([('id', 'reciNz764fdcXkneV'),\n",
              "                            ('fields',\n",
              "                             OrderedDict([('Event staff',\n",
              "                                           ['reczokgtNqe49lPub',\n",
              "                                            'recdZZpOuqp9bX1Kb',\n",
              "                                            'recvVx1vAvyn36nSP']),\n",
              "                                          ('Name', 'NorthStar')])),\n",
              "                            ('createdTime', '2021-01-14T03:12:30.000Z')])])])"
            ]
          },
          "metadata": {
            "tags": []
          },
          "execution_count": 102
        }
      ]
    },
    {
      "cell_type": "code",
      "metadata": {
        "id": "UHXw2Nlwv7vJ"
      },
      "source": [
        "def df_from_airtable(at, table_name):\n",
        "  dic = at.get(table_name)\n",
        "  df = pd.DataFrame.from_records(data=(r['fields'] for r in dic['records']))\n",
        "  df.index=(r['id'] for r in dic['records'])\n",
        "  return df"
      ],
      "execution_count": null,
      "outputs": []
    },
    {
      "cell_type": "code",
      "metadata": {
        "colab": {
          "base_uri": "https://localhost:8080/",
          "height": 110
        },
        "id": "qQzEXor1pJVW",
        "outputId": "dbd43a66-6575-4493-d75a-f9eac75b468b"
      },
      "source": [
        "df_organizations = df_from_airtable(at, tbl_organizations)\n",
        "df_organizations.head()"
      ],
      "execution_count": null,
      "outputs": [
        {
          "output_type": "execute_result",
          "data": {
            "text/html": [
              "<div>\n",
              "<style scoped>\n",
              "    .dataframe tbody tr th:only-of-type {\n",
              "        vertical-align: middle;\n",
              "    }\n",
              "\n",
              "    .dataframe tbody tr th {\n",
              "        vertical-align: top;\n",
              "    }\n",
              "\n",
              "    .dataframe thead th {\n",
              "        text-align: right;\n",
              "    }\n",
              "</style>\n",
              "<table border=\"1\" class=\"dataframe\">\n",
              "  <thead>\n",
              "    <tr style=\"text-align: right;\">\n",
              "      <th></th>\n",
              "      <th>Event staff</th>\n",
              "      <th>Name</th>\n",
              "    </tr>\n",
              "  </thead>\n",
              "  <tbody>\n",
              "    <tr>\n",
              "      <th>recW6nuVQjtun6khs</th>\n",
              "      <td>[recWtXzcWEIiArMTi]</td>\n",
              "      <td>HERE Unity &amp; Power</td>\n",
              "    </tr>\n",
              "    <tr>\n",
              "      <th>reciNz764fdcXkneV</th>\n",
              "      <td>[reczokgtNqe49lPub, recdZZpOuqp9bX1Kb, recvVx1...</td>\n",
              "      <td>NorthStar</td>\n",
              "    </tr>\n",
              "  </tbody>\n",
              "</table>\n",
              "</div>"
            ],
            "text/plain": [
              "                                                         Event staff                Name\n",
              "recW6nuVQjtun6khs                                [recWtXzcWEIiArMTi]  HERE Unity & Power\n",
              "reciNz764fdcXkneV  [reczokgtNqe49lPub, recdZZpOuqp9bX1Kb, recvVx1...           NorthStar"
            ]
          },
          "metadata": {
            "tags": []
          },
          "execution_count": 104
        }
      ]
    },
    {
      "cell_type": "code",
      "metadata": {
        "colab": {
          "base_uri": "https://localhost:8080/",
          "height": 287
        },
        "id": "u1OjkAU90cP_",
        "outputId": "91aefcc4-2103-47e1-c2be-d087c71436c9"
      },
      "source": [
        "df_event_staff = df_from_airtable(at, tbl_event_staff)\n",
        "df_event_staff.head()"
      ],
      "execution_count": null,
      "outputs": [
        {
          "output_type": "execute_result",
          "data": {
            "text/html": [
              "<div>\n",
              "<style scoped>\n",
              "    .dataframe tbody tr th:only-of-type {\n",
              "        vertical-align: middle;\n",
              "    }\n",
              "\n",
              "    .dataframe tbody tr th {\n",
              "        vertical-align: top;\n",
              "    }\n",
              "\n",
              "    .dataframe thead th {\n",
              "        text-align: right;\n",
              "    }\n",
              "</style>\n",
              "<table border=\"1\" class=\"dataframe\">\n",
              "  <thead>\n",
              "    <tr style=\"text-align: right;\">\n",
              "      <th></th>\n",
              "      <th>Role in Organization</th>\n",
              "      <th>Organization</th>\n",
              "      <th>Name</th>\n",
              "      <th>Themes &amp; Event Series</th>\n",
              "      <th>Schedule</th>\n",
              "      <th>Phone</th>\n",
              "      <th>Email</th>\n",
              "    </tr>\n",
              "  </thead>\n",
              "  <tbody>\n",
              "    <tr>\n",
              "      <th>recWtXzcWEIiArMTi</th>\n",
              "      <td>Leader</td>\n",
              "      <td>[recW6nuVQjtun6khs]</td>\n",
              "      <td>Tyonne Crump-Talley</td>\n",
              "      <td>NaN</td>\n",
              "      <td>NaN</td>\n",
              "      <td>NaN</td>\n",
              "      <td>NaN</td>\n",
              "    </tr>\n",
              "    <tr>\n",
              "      <th>recdZZpOuqp9bX1Kb</th>\n",
              "      <td>Co-Chair/Vice-Chair</td>\n",
              "      <td>[reciNz764fdcXkneV]</td>\n",
              "      <td>Aisha Jenkins</td>\n",
              "      <td>NaN</td>\n",
              "      <td>NaN</td>\n",
              "      <td>NaN</td>\n",
              "      <td>NaN</td>\n",
              "    </tr>\n",
              "    <tr>\n",
              "      <th>recvVx1vAvyn36nSP</th>\n",
              "      <td>NaN</td>\n",
              "      <td>[reciNz764fdcXkneV]</td>\n",
              "      <td>Dynasty Machado</td>\n",
              "      <td>[recDdA485l6BO5R4y]</td>\n",
              "      <td>NaN</td>\n",
              "      <td>NaN</td>\n",
              "      <td>NaN</td>\n",
              "    </tr>\n",
              "    <tr>\n",
              "      <th>reczokgtNqe49lPub</th>\n",
              "      <td>Chair</td>\n",
              "      <td>[reciNz764fdcXkneV]</td>\n",
              "      <td>Clinton Johnson</td>\n",
              "      <td>NaN</td>\n",
              "      <td>[recsV39vujdmfTpMJ, recRDwbZPIHu4fxHR, recVJ7K...</td>\n",
              "      <td>(215) 821-6008</td>\n",
              "      <td>clintongjohnson@gmail.com</td>\n",
              "    </tr>\n",
              "  </tbody>\n",
              "</table>\n",
              "</div>"
            ],
            "text/plain": [
              "                  Role in Organization  ...                      Email\n",
              "recWtXzcWEIiArMTi               Leader  ...                        NaN\n",
              "recdZZpOuqp9bX1Kb  Co-Chair/Vice-Chair  ...                        NaN\n",
              "recvVx1vAvyn36nSP                  NaN  ...                        NaN\n",
              "reczokgtNqe49lPub                Chair  ...  clintongjohnson@gmail.com\n",
              "\n",
              "[4 rows x 7 columns]"
            ]
          },
          "metadata": {
            "tags": []
          },
          "execution_count": 105
        }
      ]
    },
    {
      "cell_type": "code",
      "metadata": {
        "colab": {
          "base_uri": "https://localhost:8080/",
          "height": 474
        },
        "id": "JPrLDNJ70jdY",
        "outputId": "7e8001c4-f830-40af-c7ec-d0768ed6c692"
      },
      "source": [
        "df_schedule = df_from_airtable(at, tbl_schedule)\n",
        "df_schedule.head()"
      ],
      "execution_count": null,
      "outputs": [
        {
          "output_type": "execute_result",
          "data": {
            "text/html": [
              "<div>\n",
              "<style scoped>\n",
              "    .dataframe tbody tr th:only-of-type {\n",
              "        vertical-align: middle;\n",
              "    }\n",
              "\n",
              "    .dataframe tbody tr th {\n",
              "        vertical-align: top;\n",
              "    }\n",
              "\n",
              "    .dataframe thead th {\n",
              "        text-align: right;\n",
              "    }\n",
              "</style>\n",
              "<table border=\"1\" class=\"dataframe\">\n",
              "  <thead>\n",
              "    <tr style=\"text-align: right;\">\n",
              "      <th></th>\n",
              "      <th>Theme or Series</th>\n",
              "      <th>Primary Contact (Coordinator)</th>\n",
              "      <th>Start</th>\n",
              "      <th>Primary Online Platform</th>\n",
              "      <th>End</th>\n",
              "      <th>Activity</th>\n",
              "      <th>Organization (from Primary Contact (Coordinator))</th>\n",
              "      <th>Activity Types</th>\n",
              "      <th>Coordinator (from Theme or Series)</th>\n",
              "      <th>Brief Description</th>\n",
              "    </tr>\n",
              "  </thead>\n",
              "  <tbody>\n",
              "    <tr>\n",
              "      <th>recRDwbZPIHu4fxHR</th>\n",
              "      <td>[rec6XZaSxnPQkHw5L]</td>\n",
              "      <td>[reczokgtNqe49lPub]</td>\n",
              "      <td>2022-02-28T15:00:00.000Z</td>\n",
              "      <td>[rec9p7SGOCqo7EbZA]</td>\n",
              "      <td>2022-02-28T16:30:00.000Z</td>\n",
              "      <td>Black History Month 2022 Final Event</td>\n",
              "      <td>[reciNz764fdcXkneV]</td>\n",
              "      <td>NaN</td>\n",
              "      <td>NaN</td>\n",
              "      <td>NaN</td>\n",
              "    </tr>\n",
              "    <tr>\n",
              "      <th>recVJ7KPtithdCmyy</th>\n",
              "      <td>[rec6XZaSxnPQkHw5L]</td>\n",
              "      <td>[reczokgtNqe49lPub]</td>\n",
              "      <td>NaN</td>\n",
              "      <td>[rec9p7SGOCqo7EbZA]</td>\n",
              "      <td>NaN</td>\n",
              "      <td>Black History Month 2022 Keynote</td>\n",
              "      <td>[reciNz764fdcXkneV]</td>\n",
              "      <td>NaN</td>\n",
              "      <td>NaN</td>\n",
              "      <td>NaN</td>\n",
              "    </tr>\n",
              "    <tr>\n",
              "      <th>reckFDXBsMuFiYTY6</th>\n",
              "      <td>[recDdA485l6BO5R4y]</td>\n",
              "      <td>NaN</td>\n",
              "      <td>2021-02-05T12:00:00.000Z</td>\n",
              "      <td>[recCZ4fPth3R72nWo]</td>\n",
              "      <td>2021-02-05T13:00:00.000Z</td>\n",
              "      <td>Racial Equity for Resilient &amp; Prosperous Famil...</td>\n",
              "      <td>NaN</td>\n",
              "      <td>[Presentation]</td>\n",
              "      <td>[recvVx1vAvyn36nSP]</td>\n",
              "      <td>NaN</td>\n",
              "    </tr>\n",
              "    <tr>\n",
              "      <th>recsV39vujdmfTpMJ</th>\n",
              "      <td>[recDdA485l6BO5R4y]</td>\n",
              "      <td>[reczokgtNqe49lPub]</td>\n",
              "      <td>2021-02-01T12:00:00.000Z</td>\n",
              "      <td>[recCZ4fPth3R72nWo]</td>\n",
              "      <td>2021-02-01T13:00:00.000Z</td>\n",
              "      <td>Black History Month 2021 (February) Keynote/Pl...</td>\n",
              "      <td>[reciNz764fdcXkneV]</td>\n",
              "      <td>[Keynote]</td>\n",
              "      <td>[recvVx1vAvyn36nSP]</td>\n",
              "      <td>Panel of representatives from each Black ERG d...</td>\n",
              "    </tr>\n",
              "  </tbody>\n",
              "</table>\n",
              "</div>"
            ],
            "text/plain": [
              "                       Theme or Series  ...                                  Brief Description\n",
              "recRDwbZPIHu4fxHR  [rec6XZaSxnPQkHw5L]  ...                                                NaN\n",
              "recVJ7KPtithdCmyy  [rec6XZaSxnPQkHw5L]  ...                                                NaN\n",
              "reckFDXBsMuFiYTY6  [recDdA485l6BO5R4y]  ...                                                NaN\n",
              "recsV39vujdmfTpMJ  [recDdA485l6BO5R4y]  ...  Panel of representatives from each Black ERG d...\n",
              "\n",
              "[4 rows x 10 columns]"
            ]
          },
          "metadata": {
            "tags": []
          },
          "execution_count": 106
        }
      ]
    },
    {
      "cell_type": "code",
      "metadata": {
        "colab": {
          "base_uri": "https://localhost:8080/",
          "height": 461
        },
        "id": "qOuP6cQ70vvl",
        "outputId": "92f296b0-915b-435d-e525-f1be0fdfa620"
      },
      "source": [
        "df_themes_event_series = df_from_airtable(at, tbl_themes_event_series)\n",
        "df_themes_event_series.head()"
      ],
      "execution_count": null,
      "outputs": [
        {
          "output_type": "execute_result",
          "data": {
            "text/html": [
              "<div>\n",
              "<style scoped>\n",
              "    .dataframe tbody tr th:only-of-type {\n",
              "        vertical-align: middle;\n",
              "    }\n",
              "\n",
              "    .dataframe tbody tr th {\n",
              "        vertical-align: top;\n",
              "    }\n",
              "\n",
              "    .dataframe thead th {\n",
              "        text-align: right;\n",
              "    }\n",
              "</style>\n",
              "<table border=\"1\" class=\"dataframe\">\n",
              "  <thead>\n",
              "    <tr style=\"text-align: right;\">\n",
              "      <th></th>\n",
              "      <th>Event Scales</th>\n",
              "      <th>Theme or Series</th>\n",
              "      <th>Sessions</th>\n",
              "      <th>Description</th>\n",
              "      <th>End</th>\n",
              "      <th>Start</th>\n",
              "      <th>Subtitle</th>\n",
              "      <th>Session Count</th>\n",
              "      <th>Dry Runs (Weeks) (from Event Scales)</th>\n",
              "      <th>Final Confirmations and Guest Notifications (from Event Scales)</th>\n",
              "      <th>Photos, Biographies, and Contracts (Weeks) (from Event Scales)</th>\n",
              "      <th>Speakers, Location, and Promotion (Weeks) (from Event Scales)</th>\n",
              "      <th>Define Goals (Weeks) (from Event Scales)</th>\n",
              "      <th>Call for Speakers Notice (Weeks) (from Event Scales)</th>\n",
              "      <th>Save the Date Notice (Weeks) (from Event Scales)</th>\n",
              "      <th>Save the Date</th>\n",
              "      <th>Call for Speakers</th>\n",
              "      <th>Define Goals</th>\n",
              "      <th>Speakers, Location, and Promotion</th>\n",
              "      <th>Photos, Biographies, and Contracts</th>\n",
              "      <th>Final Confirmations and Guest Notifications</th>\n",
              "      <th>Begin Dry Runs</th>\n",
              "      <th>Coordinator</th>\n",
              "      <th>Organization (from Coordinator)</th>\n",
              "    </tr>\n",
              "  </thead>\n",
              "  <tbody>\n",
              "    <tr>\n",
              "      <th>rec6XZaSxnPQkHw5L</th>\n",
              "      <td>[recEC2MVjUUMmvIpZ]</td>\n",
              "      <td>Black History Month 2022 (February)</td>\n",
              "      <td>[recVJ7KPtithdCmyy, recRDwbZPIHu4fxHR]</td>\n",
              "      <td>**2022- Black Health and Wellness**\\n“When whi...</td>\n",
              "      <td>2022-02-28</td>\n",
              "      <td>2022-02-01</td>\n",
              "      <td>Black Health and Wellness</td>\n",
              "      <td>2</td>\n",
              "      <td>[4]</td>\n",
              "      <td>[5]</td>\n",
              "      <td>[6]</td>\n",
              "      <td>[12]</td>\n",
              "      <td>[20]</td>\n",
              "      <td>[18]</td>\n",
              "      <td>[24]</td>\n",
              "      <td>2021-08-17</td>\n",
              "      <td>2021-09-28</td>\n",
              "      <td>2021-09-14</td>\n",
              "      <td>2021-11-09</td>\n",
              "      <td>2021-12-21</td>\n",
              "      <td>2021-12-28</td>\n",
              "      <td>2022-01-04</td>\n",
              "      <td>NaN</td>\n",
              "      <td>NaN</td>\n",
              "    </tr>\n",
              "    <tr>\n",
              "      <th>recAXrCpgnrczBmo8</th>\n",
              "      <td>[recEC2MVjUUMmvIpZ]</td>\n",
              "      <td>NorthStar &amp; Blacks in GIS Present: Homecoming ...</td>\n",
              "      <td>NaN</td>\n",
              "      <td>NaN</td>\n",
              "      <td>2021-07-15</td>\n",
              "      <td>2021-07-10</td>\n",
              "      <td>Creating and Innovating through and Beyond the...</td>\n",
              "      <td>0</td>\n",
              "      <td>[4]</td>\n",
              "      <td>[5]</td>\n",
              "      <td>[6]</td>\n",
              "      <td>[12]</td>\n",
              "      <td>[20]</td>\n",
              "      <td>[18]</td>\n",
              "      <td>[24]</td>\n",
              "      <td>2021-01-23</td>\n",
              "      <td>2021-03-06</td>\n",
              "      <td>2021-02-20</td>\n",
              "      <td>2021-04-17</td>\n",
              "      <td>2021-05-29</td>\n",
              "      <td>2021-06-05</td>\n",
              "      <td>2021-06-12</td>\n",
              "      <td>NaN</td>\n",
              "      <td>NaN</td>\n",
              "    </tr>\n",
              "    <tr>\n",
              "      <th>recDdA485l6BO5R4y</th>\n",
              "      <td>[recEC2MVjUUMmvIpZ]</td>\n",
              "      <td>Black History Month 2021 (February)</td>\n",
              "      <td>[recsV39vujdmfTpMJ, reckFDXBsMuFiYTY6]</td>\n",
              "      <td>NaN</td>\n",
              "      <td>2021-02-26</td>\n",
              "      <td>2021-02-01</td>\n",
              "      <td>Who Maps the Black Family</td>\n",
              "      <td>2</td>\n",
              "      <td>[4]</td>\n",
              "      <td>[5]</td>\n",
              "      <td>[6]</td>\n",
              "      <td>[12]</td>\n",
              "      <td>[20]</td>\n",
              "      <td>[18]</td>\n",
              "      <td>[24]</td>\n",
              "      <td>2020-08-17</td>\n",
              "      <td>2020-09-28</td>\n",
              "      <td>2020-09-14</td>\n",
              "      <td>2020-11-09</td>\n",
              "      <td>2020-12-21</td>\n",
              "      <td>2020-12-28</td>\n",
              "      <td>2021-01-04</td>\n",
              "      <td>[recvVx1vAvyn36nSP]</td>\n",
              "      <td>[reciNz764fdcXkneV]</td>\n",
              "    </tr>\n",
              "  </tbody>\n",
              "</table>\n",
              "</div>"
            ],
            "text/plain": [
              "                          Event Scales  ... Organization (from Coordinator)\n",
              "rec6XZaSxnPQkHw5L  [recEC2MVjUUMmvIpZ]  ...                             NaN\n",
              "recAXrCpgnrczBmo8  [recEC2MVjUUMmvIpZ]  ...                             NaN\n",
              "recDdA485l6BO5R4y  [recEC2MVjUUMmvIpZ]  ...             [reciNz764fdcXkneV]\n",
              "\n",
              "[3 rows x 24 columns]"
            ]
          },
          "metadata": {
            "tags": []
          },
          "execution_count": 107
        }
      ]
    },
    {
      "cell_type": "code",
      "metadata": {
        "colab": {
          "base_uri": "https://localhost:8080/",
          "height": 287
        },
        "id": "QUsGd04I3a6-",
        "outputId": "5724f3b9-225f-4232-8b72-72542ecf1793"
      },
      "source": [
        "df_event_staff.head()"
      ],
      "execution_count": null,
      "outputs": [
        {
          "output_type": "execute_result",
          "data": {
            "text/html": [
              "<div>\n",
              "<style scoped>\n",
              "    .dataframe tbody tr th:only-of-type {\n",
              "        vertical-align: middle;\n",
              "    }\n",
              "\n",
              "    .dataframe tbody tr th {\n",
              "        vertical-align: top;\n",
              "    }\n",
              "\n",
              "    .dataframe thead th {\n",
              "        text-align: right;\n",
              "    }\n",
              "</style>\n",
              "<table border=\"1\" class=\"dataframe\">\n",
              "  <thead>\n",
              "    <tr style=\"text-align: right;\">\n",
              "      <th></th>\n",
              "      <th>Role in Organization</th>\n",
              "      <th>Organization</th>\n",
              "      <th>Name</th>\n",
              "      <th>Themes &amp; Event Series</th>\n",
              "      <th>Schedule</th>\n",
              "      <th>Phone</th>\n",
              "      <th>Email</th>\n",
              "    </tr>\n",
              "  </thead>\n",
              "  <tbody>\n",
              "    <tr>\n",
              "      <th>recWtXzcWEIiArMTi</th>\n",
              "      <td>Leader</td>\n",
              "      <td>[recW6nuVQjtun6khs]</td>\n",
              "      <td>Tyonne Crump-Talley</td>\n",
              "      <td>NaN</td>\n",
              "      <td>NaN</td>\n",
              "      <td>NaN</td>\n",
              "      <td>NaN</td>\n",
              "    </tr>\n",
              "    <tr>\n",
              "      <th>recdZZpOuqp9bX1Kb</th>\n",
              "      <td>Co-Chair/Vice-Chair</td>\n",
              "      <td>[reciNz764fdcXkneV]</td>\n",
              "      <td>Aisha Jenkins</td>\n",
              "      <td>NaN</td>\n",
              "      <td>NaN</td>\n",
              "      <td>NaN</td>\n",
              "      <td>NaN</td>\n",
              "    </tr>\n",
              "    <tr>\n",
              "      <th>recvVx1vAvyn36nSP</th>\n",
              "      <td>NaN</td>\n",
              "      <td>[reciNz764fdcXkneV]</td>\n",
              "      <td>Dynasty Machado</td>\n",
              "      <td>[recDdA485l6BO5R4y]</td>\n",
              "      <td>NaN</td>\n",
              "      <td>NaN</td>\n",
              "      <td>NaN</td>\n",
              "    </tr>\n",
              "    <tr>\n",
              "      <th>reczokgtNqe49lPub</th>\n",
              "      <td>Chair</td>\n",
              "      <td>[reciNz764fdcXkneV]</td>\n",
              "      <td>Clinton Johnson</td>\n",
              "      <td>NaN</td>\n",
              "      <td>[recsV39vujdmfTpMJ, recRDwbZPIHu4fxHR, recVJ7K...</td>\n",
              "      <td>(215) 821-6008</td>\n",
              "      <td>clintongjohnson@gmail.com</td>\n",
              "    </tr>\n",
              "  </tbody>\n",
              "</table>\n",
              "</div>"
            ],
            "text/plain": [
              "                  Role in Organization  ...                      Email\n",
              "recWtXzcWEIiArMTi               Leader  ...                        NaN\n",
              "recdZZpOuqp9bX1Kb  Co-Chair/Vice-Chair  ...                        NaN\n",
              "recvVx1vAvyn36nSP                  NaN  ...                        NaN\n",
              "reczokgtNqe49lPub                Chair  ...  clintongjohnson@gmail.com\n",
              "\n",
              "[4 rows x 7 columns]"
            ]
          },
          "metadata": {
            "tags": []
          },
          "execution_count": 108
        }
      ]
    },
    {
      "cell_type": "markdown",
      "metadata": {
        "id": "IfHnTKYM7gDb"
      },
      "source": [
        "#### Clean and Wrangle the Data"
      ]
    },
    {
      "cell_type": "code",
      "metadata": {
        "id": "vFZwY4VM6Qi-"
      },
      "source": [
        "df_event_staff['Organization ID'] = [','.join(map(str, l)) for l in df_event_staff['Organization']]"
      ],
      "execution_count": null,
      "outputs": []
    },
    {
      "cell_type": "code",
      "metadata": {
        "id": "_1ICfFqN32C6"
      },
      "source": [
        "df_event_staff = df_event_staff.join(df_organizations, on=\"Organization ID\", how=\"right\", rsuffix=\"_Organization\")"
      ],
      "execution_count": null,
      "outputs": []
    },
    {
      "cell_type": "code",
      "metadata": {
        "colab": {
          "base_uri": "https://localhost:8080/"
        },
        "id": "kwqtuBQX8CqK",
        "outputId": "d570468b-b93a-485d-e569-d8e79a122ca5"
      },
      "source": [
        "df_themes_event_series.info()"
      ],
      "execution_count": null,
      "outputs": [
        {
          "output_type": "stream",
          "text": [
            "<class 'pandas.core.frame.DataFrame'>\n",
            "Index: 3 entries, rec6XZaSxnPQkHw5L to recDdA485l6BO5R4y\n",
            "Data columns (total 24 columns):\n",
            " #   Column                                                           Non-Null Count  Dtype \n",
            "---  ------                                                           --------------  ----- \n",
            " 0   Event Scales                                                     3 non-null      object\n",
            " 1   Theme or Series                                                  3 non-null      object\n",
            " 2   Sessions                                                         2 non-null      object\n",
            " 3   Description                                                      1 non-null      object\n",
            " 4   End                                                              3 non-null      object\n",
            " 5   Start                                                            3 non-null      object\n",
            " 6   Subtitle                                                         3 non-null      object\n",
            " 7   Session Count                                                    3 non-null      int64 \n",
            " 8   Dry Runs (Weeks) (from Event Scales)                             3 non-null      object\n",
            " 9   Final Confirmations and Guest Notifications (from Event Scales)  3 non-null      object\n",
            " 10  Photos, Biographies, and Contracts (Weeks) (from Event Scales)   3 non-null      object\n",
            " 11  Speakers, Location, and Promotion (Weeks) (from Event Scales)    3 non-null      object\n",
            " 12  Define Goals (Weeks) (from Event Scales)                         3 non-null      object\n",
            " 13  Call for Speakers Notice (Weeks) (from Event Scales)             3 non-null      object\n",
            " 14  Save the Date Notice (Weeks) (from Event Scales)                 3 non-null      object\n",
            " 15  Save the Date                                                    3 non-null      object\n",
            " 16  Call for Speakers                                                3 non-null      object\n",
            " 17  Define Goals                                                     3 non-null      object\n",
            " 18  Speakers, Location, and Promotion                                3 non-null      object\n",
            " 19  Photos, Biographies, and Contracts                               3 non-null      object\n",
            " 20  Final Confirmations and Guest Notifications                      3 non-null      object\n",
            " 21  Begin Dry Runs                                                   3 non-null      object\n",
            " 22  Coordinator                                                      1 non-null      object\n",
            " 23  Organization (from Coordinator)                                  1 non-null      object\n",
            "dtypes: int64(1), object(23)\n",
            "memory usage: 600.0+ bytes\n"
          ],
          "name": "stdout"
        }
      ]
    },
    {
      "cell_type": "code",
      "metadata": {
        "colab": {
          "base_uri": "https://localhost:8080/"
        },
        "id": "4Nqv7aMq-oB8",
        "outputId": "0e817017-ec6a-4314-cd7a-24fb7ffcf7ee"
      },
      "source": [
        "df_themes_event_series.dtypes"
      ],
      "execution_count": null,
      "outputs": [
        {
          "output_type": "execute_result",
          "data": {
            "text/plain": [
              "Event Scales                                                       object\n",
              "Theme or Series                                                    object\n",
              "Sessions                                                           object\n",
              "Description                                                        object\n",
              "End                                                                object\n",
              "Start                                                              object\n",
              "Subtitle                                                           object\n",
              "Session Count                                                       int64\n",
              "Dry Runs (Weeks) (from Event Scales)                               object\n",
              "Final Confirmations and Guest Notifications (from Event Scales)    object\n",
              "Photos, Biographies, and Contracts (Weeks) (from Event Scales)     object\n",
              "Speakers, Location, and Promotion (Weeks) (from Event Scales)      object\n",
              "Define Goals (Weeks) (from Event Scales)                           object\n",
              "Call for Speakers Notice (Weeks) (from Event Scales)               object\n",
              "Save the Date Notice (Weeks) (from Event Scales)                   object\n",
              "Save the Date                                                      object\n",
              "Call for Speakers                                                  object\n",
              "Define Goals                                                       object\n",
              "Speakers, Location, and Promotion                                  object\n",
              "Photos, Biographies, and Contracts                                 object\n",
              "Final Confirmations and Guest Notifications                        object\n",
              "Begin Dry Runs                                                     object\n",
              "Coordinator                                                        object\n",
              "Organization (from Coordinator)                                    object\n",
              "dtype: object"
            ]
          },
          "metadata": {
            "tags": []
          },
          "execution_count": 112
        }
      ]
    },
    {
      "cell_type": "code",
      "metadata": {
        "colab": {
          "base_uri": "https://localhost:8080/"
        },
        "id": "q3IvxF1KDdN8",
        "outputId": "3ab52077-00f9-4827-89bd-93fb58b89666"
      },
      "source": [
        "date_time_format = \"%Y-%m-%dT%H:%M:%S%z\"\n",
        "df_themes_event_series['Start'] = pd.to_datetime(df_themes_event_series['Start'])#, format=date_time_format)\n",
        "df_themes_event_series['End'] = pd.to_datetime(df_themes_event_series['End'])#, format=date_time_format)\n",
        "df_themes_event_series['Save the Date'] = pd.to_datetime(df_themes_event_series['Save the Date'])#, format=date_time_format)\n",
        "df_themes_event_series['Call for Speakers'] = pd.to_datetime(df_themes_event_series['Call for Speakers'])#, format=date_time_format)\n",
        "df_themes_event_series['Define Goals'] = pd.to_datetime(df_themes_event_series['Define Goals'])#, format=date_time_format)\n",
        "df_themes_event_series['Speakers, Location, and Promotion'] = pd.to_datetime(df_themes_event_series['Speakers, Location, and Promotion'])#, format=date_time_format)\n",
        "df_themes_event_series['Photos, Biographies, and Contracts'] = pd.to_datetime(df_themes_event_series['Photos, Biographies, and Contracts'])#, format=date_time_format)\n",
        "df_themes_event_series['Final Confirmations and Guest Notifications'] = pd.to_datetime(df_themes_event_series['Final Confirmations and Guest Notifications'])#, format=date_time_format)\n",
        "df_themes_event_series['Begin Dry Runs'] = pd.to_datetime(df_themes_event_series['Begin Dry Runs'])#, format=date_time_format)\n",
        "df_themes_event_series.dtypes\n"
      ],
      "execution_count": null,
      "outputs": [
        {
          "output_type": "execute_result",
          "data": {
            "text/plain": [
              "Event Scales                                                               object\n",
              "Theme or Series                                                            object\n",
              "Sessions                                                                   object\n",
              "Description                                                                object\n",
              "End                                                                datetime64[ns]\n",
              "Start                                                              datetime64[ns]\n",
              "Subtitle                                                                   object\n",
              "Session Count                                                               int64\n",
              "Dry Runs (Weeks) (from Event Scales)                                       object\n",
              "Final Confirmations and Guest Notifications (from Event Scales)            object\n",
              "Photos, Biographies, and Contracts (Weeks) (from Event Scales)             object\n",
              "Speakers, Location, and Promotion (Weeks) (from Event Scales)              object\n",
              "Define Goals (Weeks) (from Event Scales)                                   object\n",
              "Call for Speakers Notice (Weeks) (from Event Scales)                       object\n",
              "Save the Date Notice (Weeks) (from Event Scales)                           object\n",
              "Save the Date                                                      datetime64[ns]\n",
              "Call for Speakers                                                  datetime64[ns]\n",
              "Define Goals                                                       datetime64[ns]\n",
              "Speakers, Location, and Promotion                                  datetime64[ns]\n",
              "Photos, Biographies, and Contracts                                 datetime64[ns]\n",
              "Final Confirmations and Guest Notifications                        datetime64[ns]\n",
              "Begin Dry Runs                                                     datetime64[ns]\n",
              "Coordinator                                                                object\n",
              "Organization (from Coordinator)                                            object\n",
              "dtype: object"
            ]
          },
          "metadata": {
            "tags": []
          },
          "execution_count": 114
        }
      ]
    },
    {
      "cell_type": "code",
      "metadata": {
        "id": "iSAWlMMYDkti"
      },
      "source": [
        "df_themes_event_series.drop(columns=[\"Event Scales\",\n",
        "                                     \"Sessions\",\n",
        "                                     \"Dry Runs (Weeks) (from Event Scales)\",\n",
        "                                     \"Final Confirmations and Guest Notifications (from Event Scales)\",\n",
        "                                     \"Photos, Biographies, and Contracts (Weeks) (from Event Scales)\",\n",
        "                                     \"Speakers, Location, and Promotion (Weeks) (from Event Scales)\",\n",
        "                                     \"Define Goals (Weeks) (from Event Scales)\",\n",
        "                                     \"Call for Speakers Notice (Weeks) (from Event Scales)\",\n",
        "                                     \"Save the Date Notice (Weeks) (from Event Scales)\"], axis=1, inplace=True)"
      ],
      "execution_count": null,
      "outputs": []
    },
    {
      "cell_type": "code",
      "metadata": {
        "id": "kmz2I0C4EfDP"
      },
      "source": [
        "coordinators = pd.DataFrame(df_themes_event_series['Coordinator'][pd.notna(df_themes_event_series['Coordinator'])])\n",
        "coordinators['Coordinator'] = [','.join(map(str, l)) for l in coordinators['Coordinator']]\n",
        "coordinators = coordinators.join(df_event_staff[[\"Name\",\"Organization\"]], on=\"Coordinator\", how=\"left\", rsuffix=\"_Staff\")\n",
        "coordinators['Organization'] = [','.join(map(str, l)) for l in coordinators['Organization']]\n",
        "coordinators = coordinators.join(df_organizations[[\"Name\"]], on=\"Organization\", how=\"left\", rsuffix=\"_Organization\")"
      ],
      "execution_count": null,
      "outputs": []
    },
    {
      "cell_type": "code",
      "metadata": {
        "colab": {
          "base_uri": "https://localhost:8080/",
          "height": 78
        },
        "id": "PQbyhaeaI8qu",
        "outputId": "48811111-ce12-4f5e-993f-d856ca2a6b99"
      },
      "source": [
        "coordinators"
      ],
      "execution_count": null,
      "outputs": [
        {
          "output_type": "execute_result",
          "data": {
            "text/html": [
              "<div>\n",
              "<style scoped>\n",
              "    .dataframe tbody tr th:only-of-type {\n",
              "        vertical-align: middle;\n",
              "    }\n",
              "\n",
              "    .dataframe tbody tr th {\n",
              "        vertical-align: top;\n",
              "    }\n",
              "\n",
              "    .dataframe thead th {\n",
              "        text-align: right;\n",
              "    }\n",
              "</style>\n",
              "<table border=\"1\" class=\"dataframe\">\n",
              "  <thead>\n",
              "    <tr style=\"text-align: right;\">\n",
              "      <th></th>\n",
              "      <th>Coordinator</th>\n",
              "      <th>Name</th>\n",
              "      <th>Organization</th>\n",
              "      <th>Name_Organization</th>\n",
              "    </tr>\n",
              "  </thead>\n",
              "  <tbody>\n",
              "    <tr>\n",
              "      <th>recDdA485l6BO5R4y</th>\n",
              "      <td>recvVx1vAvyn36nSP</td>\n",
              "      <td>Dynasty Machado</td>\n",
              "      <td>reciNz764fdcXkneV</td>\n",
              "      <td>NorthStar</td>\n",
              "    </tr>\n",
              "  </tbody>\n",
              "</table>\n",
              "</div>"
            ],
            "text/plain": [
              "                         Coordinator  ... Name_Organization\n",
              "recDdA485l6BO5R4y  recvVx1vAvyn36nSP  ...         NorthStar\n",
              "\n",
              "[1 rows x 4 columns]"
            ]
          },
          "metadata": {
            "tags": []
          },
          "execution_count": 117
        }
      ]
    },
    {
      "cell_type": "code",
      "metadata": {
        "colab": {
          "base_uri": "https://localhost:8080/",
          "height": 394
        },
        "id": "BZkDOtYTJ9kG",
        "outputId": "2a5031da-dc76-42fe-b687-a19c33933003"
      },
      "source": [
        "df_themes_event_series"
      ],
      "execution_count": null,
      "outputs": [
        {
          "output_type": "execute_result",
          "data": {
            "text/html": [
              "<div>\n",
              "<style scoped>\n",
              "    .dataframe tbody tr th:only-of-type {\n",
              "        vertical-align: middle;\n",
              "    }\n",
              "\n",
              "    .dataframe tbody tr th {\n",
              "        vertical-align: top;\n",
              "    }\n",
              "\n",
              "    .dataframe thead th {\n",
              "        text-align: right;\n",
              "    }\n",
              "</style>\n",
              "<table border=\"1\" class=\"dataframe\">\n",
              "  <thead>\n",
              "    <tr style=\"text-align: right;\">\n",
              "      <th></th>\n",
              "      <th>Theme or Series</th>\n",
              "      <th>Description</th>\n",
              "      <th>End</th>\n",
              "      <th>Start</th>\n",
              "      <th>Subtitle</th>\n",
              "      <th>Session Count</th>\n",
              "      <th>Save the Date</th>\n",
              "      <th>Call for Speakers</th>\n",
              "      <th>Define Goals</th>\n",
              "      <th>Speakers, Location, and Promotion</th>\n",
              "      <th>Photos, Biographies, and Contracts</th>\n",
              "      <th>Final Confirmations and Guest Notifications</th>\n",
              "      <th>Begin Dry Runs</th>\n",
              "      <th>Coordinator</th>\n",
              "      <th>Organization (from Coordinator)</th>\n",
              "    </tr>\n",
              "  </thead>\n",
              "  <tbody>\n",
              "    <tr>\n",
              "      <th>rec6XZaSxnPQkHw5L</th>\n",
              "      <td>Black History Month 2022 (February)</td>\n",
              "      <td>**2022- Black Health and Wellness**\\n“When whi...</td>\n",
              "      <td>2022-02-28</td>\n",
              "      <td>2022-02-01</td>\n",
              "      <td>Black Health and Wellness</td>\n",
              "      <td>2</td>\n",
              "      <td>2021-08-17</td>\n",
              "      <td>2021-09-28</td>\n",
              "      <td>2021-09-14</td>\n",
              "      <td>2021-11-09</td>\n",
              "      <td>2021-12-21</td>\n",
              "      <td>2021-12-28</td>\n",
              "      <td>2022-01-04</td>\n",
              "      <td>NaN</td>\n",
              "      <td>NaN</td>\n",
              "    </tr>\n",
              "    <tr>\n",
              "      <th>recAXrCpgnrczBmo8</th>\n",
              "      <td>NorthStar &amp; Blacks in GIS Present: Homecoming ...</td>\n",
              "      <td>NaN</td>\n",
              "      <td>2021-07-15</td>\n",
              "      <td>2021-07-10</td>\n",
              "      <td>Creating and Innovating through and Beyond the...</td>\n",
              "      <td>0</td>\n",
              "      <td>2021-01-23</td>\n",
              "      <td>2021-03-06</td>\n",
              "      <td>2021-02-20</td>\n",
              "      <td>2021-04-17</td>\n",
              "      <td>2021-05-29</td>\n",
              "      <td>2021-06-05</td>\n",
              "      <td>2021-06-12</td>\n",
              "      <td>NaN</td>\n",
              "      <td>NaN</td>\n",
              "    </tr>\n",
              "    <tr>\n",
              "      <th>recDdA485l6BO5R4y</th>\n",
              "      <td>Black History Month 2021 (February)</td>\n",
              "      <td>NaN</td>\n",
              "      <td>2021-02-26</td>\n",
              "      <td>2021-02-01</td>\n",
              "      <td>Who Maps the Black Family</td>\n",
              "      <td>2</td>\n",
              "      <td>2020-08-17</td>\n",
              "      <td>2020-09-28</td>\n",
              "      <td>2020-09-14</td>\n",
              "      <td>2020-11-09</td>\n",
              "      <td>2020-12-21</td>\n",
              "      <td>2020-12-28</td>\n",
              "      <td>2021-01-04</td>\n",
              "      <td>[recvVx1vAvyn36nSP]</td>\n",
              "      <td>[reciNz764fdcXkneV]</td>\n",
              "    </tr>\n",
              "  </tbody>\n",
              "</table>\n",
              "</div>"
            ],
            "text/plain": [
              "                                                     Theme or Series  ... Organization (from Coordinator)\n",
              "rec6XZaSxnPQkHw5L                Black History Month 2022 (February)  ...                             NaN\n",
              "recAXrCpgnrczBmo8  NorthStar & Blacks in GIS Present: Homecoming ...  ...                             NaN\n",
              "recDdA485l6BO5R4y                Black History Month 2021 (February)  ...             [reciNz764fdcXkneV]\n",
              "\n",
              "[3 rows x 15 columns]"
            ]
          },
          "metadata": {
            "tags": []
          },
          "execution_count": 118
        }
      ]
    },
    {
      "cell_type": "code",
      "metadata": {
        "colab": {
          "base_uri": "https://localhost:8080/",
          "height": 394
        },
        "id": "ZAsDCTMYK1GS",
        "outputId": "6dc78bfd-0cc7-45d4-a117-c7f8004cd5b6"
      },
      "source": [
        "df_themes_event_series['Coordinator Name'] = coordinators['Name']\n",
        "df_themes_event_series['Organization Name'] = coordinators['Name_Organization']\n",
        "df_series_plan_overview = df_themes_event_series.drop([\"Coordinator\",\"Organization (from Coordinator)\"], axis=1).fillna(\"\")\n",
        "df_series_plan_overview"
      ],
      "execution_count": null,
      "outputs": [
        {
          "output_type": "execute_result",
          "data": {
            "text/html": [
              "<div>\n",
              "<style scoped>\n",
              "    .dataframe tbody tr th:only-of-type {\n",
              "        vertical-align: middle;\n",
              "    }\n",
              "\n",
              "    .dataframe tbody tr th {\n",
              "        vertical-align: top;\n",
              "    }\n",
              "\n",
              "    .dataframe thead th {\n",
              "        text-align: right;\n",
              "    }\n",
              "</style>\n",
              "<table border=\"1\" class=\"dataframe\">\n",
              "  <thead>\n",
              "    <tr style=\"text-align: right;\">\n",
              "      <th></th>\n",
              "      <th>Theme or Series</th>\n",
              "      <th>Description</th>\n",
              "      <th>End</th>\n",
              "      <th>Start</th>\n",
              "      <th>Subtitle</th>\n",
              "      <th>Session Count</th>\n",
              "      <th>Save the Date</th>\n",
              "      <th>Call for Speakers</th>\n",
              "      <th>Define Goals</th>\n",
              "      <th>Speakers, Location, and Promotion</th>\n",
              "      <th>Photos, Biographies, and Contracts</th>\n",
              "      <th>Final Confirmations and Guest Notifications</th>\n",
              "      <th>Begin Dry Runs</th>\n",
              "      <th>Coordinator Name</th>\n",
              "      <th>Organization Name</th>\n",
              "    </tr>\n",
              "  </thead>\n",
              "  <tbody>\n",
              "    <tr>\n",
              "      <th>rec6XZaSxnPQkHw5L</th>\n",
              "      <td>Black History Month 2022 (February)</td>\n",
              "      <td>**2022- Black Health and Wellness**\\n“When whi...</td>\n",
              "      <td>2022-02-28</td>\n",
              "      <td>2022-02-01</td>\n",
              "      <td>Black Health and Wellness</td>\n",
              "      <td>2</td>\n",
              "      <td>2021-08-17</td>\n",
              "      <td>2021-09-28</td>\n",
              "      <td>2021-09-14</td>\n",
              "      <td>2021-11-09</td>\n",
              "      <td>2021-12-21</td>\n",
              "      <td>2021-12-28</td>\n",
              "      <td>2022-01-04</td>\n",
              "      <td></td>\n",
              "      <td></td>\n",
              "    </tr>\n",
              "    <tr>\n",
              "      <th>recAXrCpgnrczBmo8</th>\n",
              "      <td>NorthStar &amp; Blacks in GIS Present: Homecoming ...</td>\n",
              "      <td></td>\n",
              "      <td>2021-07-15</td>\n",
              "      <td>2021-07-10</td>\n",
              "      <td>Creating and Innovating through and Beyond the...</td>\n",
              "      <td>0</td>\n",
              "      <td>2021-01-23</td>\n",
              "      <td>2021-03-06</td>\n",
              "      <td>2021-02-20</td>\n",
              "      <td>2021-04-17</td>\n",
              "      <td>2021-05-29</td>\n",
              "      <td>2021-06-05</td>\n",
              "      <td>2021-06-12</td>\n",
              "      <td></td>\n",
              "      <td></td>\n",
              "    </tr>\n",
              "    <tr>\n",
              "      <th>recDdA485l6BO5R4y</th>\n",
              "      <td>Black History Month 2021 (February)</td>\n",
              "      <td></td>\n",
              "      <td>2021-02-26</td>\n",
              "      <td>2021-02-01</td>\n",
              "      <td>Who Maps the Black Family</td>\n",
              "      <td>2</td>\n",
              "      <td>2020-08-17</td>\n",
              "      <td>2020-09-28</td>\n",
              "      <td>2020-09-14</td>\n",
              "      <td>2020-11-09</td>\n",
              "      <td>2020-12-21</td>\n",
              "      <td>2020-12-28</td>\n",
              "      <td>2021-01-04</td>\n",
              "      <td>Dynasty Machado</td>\n",
              "      <td>NorthStar</td>\n",
              "    </tr>\n",
              "  </tbody>\n",
              "</table>\n",
              "</div>"
            ],
            "text/plain": [
              "                                                     Theme or Series  ... Organization Name\n",
              "rec6XZaSxnPQkHw5L                Black History Month 2022 (February)  ...                  \n",
              "recAXrCpgnrczBmo8  NorthStar & Blacks in GIS Present: Homecoming ...  ...                  \n",
              "recDdA485l6BO5R4y                Black History Month 2021 (February)  ...         NorthStar\n",
              "\n",
              "[3 rows x 15 columns]"
            ]
          },
          "metadata": {
            "tags": []
          },
          "execution_count": 119
        }
      ]
    },
    {
      "cell_type": "markdown",
      "metadata": {
        "id": "VUbg3YcnMf_Y"
      },
      "source": [
        "## Synching with Google Calendar"
      ]
    },
    {
      "cell_type": "markdown",
      "metadata": {
        "id": "kkt-c3o8Mr31"
      },
      "source": [
        "### Installations"
      ]
    },
    {
      "cell_type": "code",
      "metadata": {
        "id": "tpCdXjwBQ8Bs"
      },
      "source": [
        "import datetime\n",
        "from apiclient.discovery import build\n",
        "from google_auth_oauthlib.flow import InstalledAppFlow"
      ],
      "execution_count": null,
      "outputs": []
    },
    {
      "cell_type": "code",
      "metadata": {
        "id": "Jxmc_JUMQ-B0"
      },
      "source": [
        "scopes = ['https://www.googleapis.com/auth/calendar']"
      ],
      "execution_count": null,
      "outputs": []
    },
    {
      "cell_type": "code",
      "metadata": {
        "colab": {
          "base_uri": "https://localhost:8080/"
        },
        "id": "orykkHZaRDpA",
        "outputId": "3e410809-8bfb-47bb-bd85-80606ef86fe3"
      },
      "source": [
        "flow = InstalledAppFlow.from_client_secrets_file(\"credentials_desktop.json\", scopes=scopes)\n",
        "credentials = flow.run_console()"
      ],
      "execution_count": null,
      "outputs": [
        {
          "output_type": "stream",
          "text": [
            "Please visit this URL to authorize this application: https://accounts.google.com/o/oauth2/auth?response_type=code&client_id=28833406889-792p2lb2g76ih4tfim2fcm9hofpj1pkb.apps.googleusercontent.com&redirect_uri=urn%3Aietf%3Awg%3Aoauth%3A2.0%3Aoob&scope=https%3A%2F%2Fwww.googleapis.com%2Fauth%2Fcalendar&state=STCl3bdRZeKALKlQewk1qgYPaYm4cE&prompt=consent&access_type=offline\n",
            "Enter the authorization code: 4/1AX4XfWhA64aG363Mc4EpONhL--oHfQoW8YZkylcGGMOQqqbS77n3e4fLM5Y\n"
          ],
          "name": "stdout"
        }
      ]
    },
    {
      "cell_type": "code",
      "metadata": {
        "colab": {
          "base_uri": "https://localhost:8080/"
        },
        "id": "O-c_NONLRVEb",
        "outputId": "f710c053-fe74-44d0-92b6-b6796be7f4e4"
      },
      "source": [
        "credentials"
      ],
      "execution_count": null,
      "outputs": [
        {
          "output_type": "execute_result",
          "data": {
            "text/plain": [
              "<google.oauth2.credentials.Credentials at 0x7fb430b4d550>"
            ]
          },
          "metadata": {
            "tags": []
          },
          "execution_count": 125
        }
      ]
    },
    {
      "cell_type": "code",
      "metadata": {
        "id": "6zMAuRkQRdN1"
      },
      "source": [
        "import pickle\n",
        "\n",
        "pickle.dump(credentials, open(\"token.pkl\", \"wb\")) \n",
        "credentials = pickle.load(open(\"token.pkl\", \"rb\"))"
      ],
      "execution_count": null,
      "outputs": []
    },
    {
      "cell_type": "code",
      "metadata": {
        "colab": {
          "base_uri": "https://localhost:8080/"
        },
        "id": "iZm21E1URoVV",
        "outputId": "147197b5-1dfe-4370-923c-fb972d4bdf24"
      },
      "source": [
        "credentials"
      ],
      "execution_count": null,
      "outputs": [
        {
          "output_type": "execute_result",
          "data": {
            "text/plain": [
              "<google.oauth2.credentials.Credentials at 0x7fb430b7bd90>"
            ]
          },
          "metadata": {
            "tags": []
          },
          "execution_count": 127
        }
      ]
    },
    {
      "cell_type": "code",
      "metadata": {
        "id": "UP20l_F2Ru5f"
      },
      "source": [
        "service = build(\"calendar\", \"v3\", credentials=credentials)"
      ],
      "execution_count": null,
      "outputs": []
    },
    {
      "cell_type": "code",
      "metadata": {
        "id": "SlfuLwy4R730"
      },
      "source": [
        "result = service.calendarList().list().execute()"
      ],
      "execution_count": null,
      "outputs": []
    },
    {
      "cell_type": "code",
      "metadata": {
        "id": "QY8KiwvrSUdw"
      },
      "source": [
        "calendar_id = \"9jic3up36k2i94jfid9jaqf9rk@group.calendar.google.com\""
      ],
      "execution_count": null,
      "outputs": []
    },
    {
      "cell_type": "code",
      "metadata": {
        "id": "GzBnXka7Xzb-"
      },
      "source": [
        "class reminder:\n",
        "  def __init__(self, time_value, time_unit='hours', method='email'):\n",
        "    self.time_value = time_value\n",
        "    self.time_unit = time_unit\n",
        "    self.method = method\n",
        "\n",
        "  def to_dic(self):\n",
        "    switcher = {'weeks'   : 60 * 24 * 7,\n",
        "                'days'    : 60 * 24,\n",
        "                'hours'   : 60,\n",
        "                'minutes' : 1}\n",
        "    minutes = switcher[self.time_unit] * self.time_value\n",
        "    return {'method': self.method, 'minutes': minutes}"
      ],
      "execution_count": null,
      "outputs": []
    },
    {
      "cell_type": "code",
      "metadata": {
        "colab": {
          "base_uri": "https://localhost:8080/"
        },
        "id": "G-SL_QzgX1cx",
        "outputId": "589fdbc3-b686-4403-f184-0d0850ad9d57"
      },
      "source": [
        "r = reminder(1,'weeks')\n",
        "r.to_dic()"
      ],
      "execution_count": null,
      "outputs": [
        {
          "output_type": "execute_result",
          "data": {
            "text/plain": [
              "{'method': 'email', 'minutes': 10080}"
            ]
          },
          "metadata": {
            "tags": []
          },
          "execution_count": 40
        }
      ]
    },
    {
      "cell_type": "code",
      "metadata": {
        "colab": {
          "base_uri": "https://localhost:8080/"
        },
        "id": "n5vq9SPueOIy",
        "outputId": "7db8c426-bdd1-4690-b1aa-85fb95449440"
      },
      "source": [
        ""
      ],
      "execution_count": null,
      "outputs": [
        {
          "output_type": "execute_result",
          "data": {
            "text/plain": [
              "datetime.datetime(2021, 7, 19, 6, 42, 38, 762163)"
            ]
          },
          "metadata": {
            "tags": []
          },
          "execution_count": 141
        }
      ]
    },
    {
      "cell_type": "code",
      "metadata": {
        "id": "ON5HqV1KiIou"
      },
      "source": [
        "DEFAULT_TZ = \"GMT-5\"\n",
        "def get_google_event(summary, start_datetime, end_datetime=None, \n",
        "                     location=\"\", description=\"\", attendee_emails=[], id=None,\n",
        "                     start_tz=DEFAULT_TZ, end_tz=DEFAULT_TZ):\n",
        "  date_format = \"%Y-%m-%d\"\n",
        "  time_format = \"%Y-%m-%dT%H:%M:%S\"\n",
        "  tz_format = \"%Z/%z\"\n",
        "  o = {\n",
        "    'summary': summary,\n",
        "    'location': location,\n",
        "    'description': description,\n",
        "    'attendees': [],\n",
        "    'reminders': {},\n",
        "  }\n",
        "  if type(start_datetime) == datetime.datetime:\n",
        "    o['start'] = {'dateTime': start_datetime.strftime(time_format)}\n",
        "  if type(start_datetime) == datetime.date:\n",
        "    o['start'] = {'date': start_datetime.strftime(date_format)}\n",
        "\n",
        "  if type(end_datetime) == datetime.datetime:\n",
        "    o['end'] = {'dateTime': end_datetime.strftime(time_format)}\n",
        "  if type(end_datetime) == datetime.date:\n",
        "    o['end'] = {'date': end_datetime.strftime(date_format)}\n",
        "  if attendee_emails != None:\n",
        "    for e in attendee_emails:\n",
        "      if e!=\"\" and e!= None:\n",
        "          o[\"attendees\"].append({\"email\": e})\n",
        "  if id != None:\n",
        "    o['id'] = id.lower().replace('w','1').replace('x','2').replace('y','3').replace('z','4')\n",
        "\n",
        "  if start_tz==\"\":\n",
        "    start_tz = DEFAULT_TZ\n",
        "  if end_tz==\"\":\n",
        "    end_tz = DEFAULT_TZ\n",
        "  if start_tz !=\"\":\n",
        "    o['start']['timeZone'] = start_tz\n",
        "\n",
        "  if end_tz !=\"\" and 'end' in o:\n",
        "    o['end']['timeZone'] = end_tz\n",
        "  return o\n",
        "    \n",
        "class milestone:\n",
        "  def __init__(self, title, year, month, day, description=\"\", owner_email=None, coordinator_email=None, id=None, tz=DEFAULT_TZ):\n",
        "    self.id = id\n",
        "    self.title = title\n",
        "    self.description = description\n",
        "    self.date = datetime.date(year, month, day)\n",
        "    self.tz = tz\n",
        "    self.owner_email = owner_email\n",
        "    self.coordinator_email = coordinator_email\n",
        "    self.reminders = []\n",
        "\n",
        "  def add_reminder(self, time_value, time_unit='hours', method='email'):\n",
        "    self.reminders.append(reminder(time_value, time_unit, method))\n",
        "\n",
        "  def get_google_reminders(self):\n",
        "      o = {'useDefault': True, 'overrides': []}\n",
        "\n",
        "      if len(self.reminders)>0:\n",
        "        o['useDefault'] = False\n",
        "        for r in self.reminders:\n",
        "          o['overrides'].append(r.to_dic())\n",
        "      \n",
        "      return o\n",
        "\n",
        "  def get_google_event(self):\n",
        "    emails = []\n",
        "    emails.append(self.owner_email)\n",
        "    emails.append(self.coordinator_email)\n",
        "\n",
        "    o = get_google_event(self.title,self.date, None, \"\", self.description, emails,  self.id, self.tz)\n",
        "    return o"
      ],
      "execution_count": null,
      "outputs": []
    },
    {
      "cell_type": "code",
      "metadata": {
        "colab": {
          "base_uri": "https://localhost:8080/"
        },
        "id": "z84xuplnumK8",
        "outputId": "a3f1d97d-d7f3-48ec-d0d1-1f05d3cd88cd"
      },
      "source": [
        "get_google_event(\"Promote\", datetime.datetime(2021,8,6,8,22), datetime.datetime(2021,8,6,9,22))\n"
      ],
      "execution_count": null,
      "outputs": [
        {
          "output_type": "execute_result",
          "data": {
            "text/plain": [
              "{'attendees': [],\n",
              " 'description': '',\n",
              " 'end': {'dateTime': '2021-08-06T09:22:00', 'timeZone': 'GMT-5'},\n",
              " 'location': '',\n",
              " 'reminders': {},\n",
              " 'start': {'dateTime': '2021-08-06T08:22:00', 'timeZone': 'GMT-5'},\n",
              " 'summary': 'Promote'}"
            ]
          },
          "metadata": {
            "tags": []
          },
          "execution_count": 206
        }
      ]
    },
    {
      "cell_type": "code",
      "metadata": {
        "colab": {
          "base_uri": "https://localhost:8080/"
        },
        "id": "Hxq6T54UiMRX",
        "outputId": "5e78dcd9-27d8-4554-dd03-b75dd16c73be"
      },
      "source": [
        "m = milestone(\"Promote\", 2021, 8, 6, '')\n",
        "m.add_reminder(2,'days','popup')\n",
        "m.add_reminder(2,'hours','popup')\n",
        "m.get_google_event()"
      ],
      "execution_count": null,
      "outputs": [
        {
          "output_type": "execute_result",
          "data": {
            "text/plain": [
              "{'attendees': [],\n",
              " 'description': '',\n",
              " 'location': '',\n",
              " 'reminders': {},\n",
              " 'start': {'date': '2021-08-06', 'timeZone': 'GMT-4'},\n",
              " 'summary': 'Promote'}"
            ]
          },
          "metadata": {
            "tags": []
          },
          "execution_count": 183
        }
      ]
    },
    {
      "cell_type": "code",
      "metadata": {
        "colab": {
          "base_uri": "https://localhost:8080/"
        },
        "id": "meTuogXOmVYi",
        "outputId": "2c828fe9-4205-40bc-ac41-a94e60d1b099"
      },
      "source": [
        "d = datetime.datetime(2021, 8, 6)\n",
        "type(None)"
      ],
      "execution_count": null,
      "outputs": [
        {
          "output_type": "execute_result",
          "data": {
            "text/plain": [
              "NoneType"
            ]
          },
          "metadata": {
            "tags": []
          },
          "execution_count": 164
        }
      ]
    },
    {
      "cell_type": "code",
      "metadata": {
        "id": "uJJNSYV-lfvU"
      },
      "source": [
        "class event_plan:\n",
        "  def __init__(self, title, start, end=None, description='', location='', id=None, start_tz=DEFAULT_TZ, end_tz=DEFAULT_TZ):\n",
        "    if type(start) == pd._libs.tslibs.timestamps.Timestamp:\n",
        "      if start.tz != None and start.tz != \"\":\n",
        "          start_tz = start.tz\n",
        "      start = start.to_pydatetime()\n",
        "    if type(end) == pd._libs.tslibs.timestamps.Timestamp:\n",
        "      if end.tz != None and end.tz != \"\":\n",
        "          end_tz = end.tz      \n",
        "      end = end.to_pydatetime()\n",
        "    \n",
        "    if type(start) != datetime.date and type(start) != datetime.datetime:\n",
        "      print(type(start))\n",
        "      raise ValueError(\"Parameter start must be of type datetime.date or datetime.datetime\")\n",
        "    if end != None and type(end) != datetime.date and type(end) != datetime.datetime:\n",
        "      print(type(end))\n",
        "      raise ValueError(\"Parameter end must be None or of type datetime.date or datetime.datetime\")\n",
        "    \n",
        "    self.id = id\n",
        "    self.title = title\n",
        "    self.description = description\n",
        "    self.location = location\n",
        "    self.start = start\n",
        "    self.start_tz = start_tz\n",
        "    self.end = end\n",
        "    self.end_tz = end_tz\n",
        "    self.milestones = []\n",
        "    self.reminders = []\n",
        "    self.owner={'name':\"\", 'email':''}\n",
        "    self.coordinator={'name':\"\", 'email':''}\n",
        "\n",
        "  def add_reminder(self, time_value, time_unit='hours', method='email'):\n",
        "    self.reminders.append(reminder(time_value, time_unit, method))\n",
        "\n",
        "  def get_google_reminders(self):\n",
        "      o = {'useDefault': True, 'overrides': []}\n",
        "\n",
        "      if len(self.reminders)>0:\n",
        "        o['useDefault'] = False\n",
        "        for r in self.reminders:\n",
        "          o['overrides'].append(r.to_dic())\n",
        "      \n",
        "      return o\n",
        "\n",
        "  def add_milestone(self,title, year, month, day, description=\"\", owner_email=None, coordinator_email=None, id=None, tz=\"\"):\n",
        "    self.milestones.append(milestone(title, year, month, day, description, owner_email, coordinator_email, id))\n",
        "\n",
        "  def get_google_events(self):\n",
        "    emails = [ self.owner['email'], self.coordinator['email'] ]\n",
        "    events = []\n",
        "    e_main = get_google_event(self.title, self.start, self.end, self.location, self.description, emails, self.id)\n",
        "    e_main['reminders'] = self.get_google_reminders()\n",
        "    events.append(e_main)\n",
        "\n",
        "    for m in self.milestones:\n",
        "      e = m.get_google_event()\n",
        "      e['summary'] = \"{} - {}\".format(self.title, m.title)\n",
        "      e['reminders'] = self.get_google_reminders()\n",
        "      events.append(e)\n",
        "\n",
        "    return events"
      ],
      "execution_count": null,
      "outputs": []
    },
    {
      "cell_type": "code",
      "metadata": {
        "colab": {
          "base_uri": "https://localhost:8080/"
        },
        "id": "mSdoXzWyqmDZ",
        "outputId": "598da922-ebd5-4f1a-944a-bb9f8c243598"
      },
      "source": [
        "ep = event_plan(\"BHM 2021\", datetime.datetime(2021, 8, 6, 8, 22))\n",
        "ep.get_google_events()"
      ],
      "execution_count": null,
      "outputs": [
        {
          "output_type": "execute_result",
          "data": {
            "text/plain": [
              "[{'attendees': [],\n",
              "  'description': '',\n",
              "  'location': '',\n",
              "  'reminders': {'overrides': [], 'useDefault': True},\n",
              "  'start': {'dateTime': '21-08-06T08:22:00', 'timeZone': 'GMT-4'},\n",
              "  'summary': 'BHM 2021'}]"
            ]
          },
          "metadata": {
            "tags": []
          },
          "execution_count": 166
        }
      ]
    },
    {
      "cell_type": "code",
      "metadata": {
        "colab": {
          "base_uri": "https://localhost:8080/",
          "height": 394
        },
        "id": "SP4JmCXr-9Ma",
        "outputId": "12622be3-1baa-475d-98ef-10ff1c602867"
      },
      "source": [
        "df_series_plan_overview.head()"
      ],
      "execution_count": null,
      "outputs": [
        {
          "output_type": "execute_result",
          "data": {
            "text/html": [
              "<div>\n",
              "<style scoped>\n",
              "    .dataframe tbody tr th:only-of-type {\n",
              "        vertical-align: middle;\n",
              "    }\n",
              "\n",
              "    .dataframe tbody tr th {\n",
              "        vertical-align: top;\n",
              "    }\n",
              "\n",
              "    .dataframe thead th {\n",
              "        text-align: right;\n",
              "    }\n",
              "</style>\n",
              "<table border=\"1\" class=\"dataframe\">\n",
              "  <thead>\n",
              "    <tr style=\"text-align: right;\">\n",
              "      <th></th>\n",
              "      <th>Theme or Series</th>\n",
              "      <th>Description</th>\n",
              "      <th>End</th>\n",
              "      <th>Start</th>\n",
              "      <th>Subtitle</th>\n",
              "      <th>Session Count</th>\n",
              "      <th>Save the Date</th>\n",
              "      <th>Call for Speakers</th>\n",
              "      <th>Define Goals</th>\n",
              "      <th>Speakers, Location, and Promotion</th>\n",
              "      <th>Photos, Biographies, and Contracts</th>\n",
              "      <th>Final Confirmations and Guest Notifications</th>\n",
              "      <th>Begin Dry Runs</th>\n",
              "      <th>Coordinator Name</th>\n",
              "      <th>Organization Name</th>\n",
              "    </tr>\n",
              "  </thead>\n",
              "  <tbody>\n",
              "    <tr>\n",
              "      <th>rec6XZaSxnPQkHw5L</th>\n",
              "      <td>Black History Month 2022 (February)</td>\n",
              "      <td>**2022- Black Health and Wellness**\\n“When whi...</td>\n",
              "      <td>2022-02-28</td>\n",
              "      <td>2022-02-01</td>\n",
              "      <td>Black Health and Wellness</td>\n",
              "      <td>2</td>\n",
              "      <td>2021-08-17</td>\n",
              "      <td>2021-09-28</td>\n",
              "      <td>2021-09-14</td>\n",
              "      <td>2021-11-09</td>\n",
              "      <td>2021-12-21</td>\n",
              "      <td>2021-12-28</td>\n",
              "      <td>2022-01-04</td>\n",
              "      <td></td>\n",
              "      <td></td>\n",
              "    </tr>\n",
              "    <tr>\n",
              "      <th>recAXrCpgnrczBmo8</th>\n",
              "      <td>NorthStar &amp; Blacks in GIS Present: Homecoming ...</td>\n",
              "      <td></td>\n",
              "      <td>2021-07-15</td>\n",
              "      <td>2021-07-10</td>\n",
              "      <td>Creating and Innovating through and Beyond the...</td>\n",
              "      <td>0</td>\n",
              "      <td>2021-01-23</td>\n",
              "      <td>2021-03-06</td>\n",
              "      <td>2021-02-20</td>\n",
              "      <td>2021-04-17</td>\n",
              "      <td>2021-05-29</td>\n",
              "      <td>2021-06-05</td>\n",
              "      <td>2021-06-12</td>\n",
              "      <td></td>\n",
              "      <td></td>\n",
              "    </tr>\n",
              "    <tr>\n",
              "      <th>recDdA485l6BO5R4y</th>\n",
              "      <td>Black History Month 2021 (February)</td>\n",
              "      <td></td>\n",
              "      <td>2021-02-26</td>\n",
              "      <td>2021-02-01</td>\n",
              "      <td>Who Maps the Black Family</td>\n",
              "      <td>2</td>\n",
              "      <td>2020-08-17</td>\n",
              "      <td>2020-09-28</td>\n",
              "      <td>2020-09-14</td>\n",
              "      <td>2020-11-09</td>\n",
              "      <td>2020-12-21</td>\n",
              "      <td>2020-12-28</td>\n",
              "      <td>2021-01-04</td>\n",
              "      <td>Dynasty Machado</td>\n",
              "      <td>NorthStar</td>\n",
              "    </tr>\n",
              "  </tbody>\n",
              "</table>\n",
              "</div>"
            ],
            "text/plain": [
              "                                                     Theme or Series  ... Organization Name\n",
              "rec6XZaSxnPQkHw5L                Black History Month 2022 (February)  ...                  \n",
              "recAXrCpgnrczBmo8  NorthStar & Blacks in GIS Present: Homecoming ...  ...                  \n",
              "recDdA485l6BO5R4y                Black History Month 2021 (February)  ...         NorthStar\n",
              "\n",
              "[3 rows x 15 columns]"
            ]
          },
          "metadata": {
            "tags": []
          },
          "execution_count": 156
        }
      ]
    },
    {
      "cell_type": "code",
      "metadata": {
        "colab": {
          "base_uri": "https://localhost:8080/"
        },
        "id": "UX0dTctlC-oL",
        "outputId": "e6a869f3-9b1f-4e48-c1b3-d65a078c7d60"
      },
      "source": [
        "df_series_plan_overview.dtypes"
      ],
      "execution_count": null,
      "outputs": [
        {
          "output_type": "execute_result",
          "data": {
            "text/plain": [
              "Theme or Series                                        object\n",
              "Description                                            object\n",
              "End                                            datetime64[ns]\n",
              "Start                                          datetime64[ns]\n",
              "Subtitle                                               object\n",
              "Session Count                                           int64\n",
              "Save the Date                                  datetime64[ns]\n",
              "Call for Speakers                              datetime64[ns]\n",
              "Define Goals                                   datetime64[ns]\n",
              "Speakers, Location, and Promotion              datetime64[ns]\n",
              "Photos, Biographies, and Contracts             datetime64[ns]\n",
              "Final Confirmations and Guest Notifications    datetime64[ns]\n",
              "Begin Dry Runs                                 datetime64[ns]\n",
              "Coordinator Name                                       object\n",
              "Organization Name                                      object\n",
              "dtype: object"
            ]
          },
          "metadata": {
            "tags": []
          },
          "execution_count": 157
        }
      ]
    },
    {
      "cell_type": "code",
      "metadata": {
        "id": "2N3zpfcr_FEW"
      },
      "source": [
        "plans = []\n",
        "\n",
        "for (id, title, description, start, end, m_std, m_cfs, m_dg, m_slp, m_pbc, m_fcgn, m_bdr) in zip (\n",
        "    df_series_plan_overview.index,\n",
        "    df_series_plan_overview['Theme or Series'],    \n",
        "    df_series_plan_overview['Description'],    \n",
        "    df_series_plan_overview['Start'],    \n",
        "    df_series_plan_overview['End'],    \n",
        "    df_series_plan_overview['Save the Date'],    \n",
        "    df_series_plan_overview['Call for Speakers'],    \n",
        "    df_series_plan_overview['Define Goals'],    \n",
        "    df_series_plan_overview['Speakers, Location, and Promotion'],    \n",
        "    df_series_plan_overview['Photos, Biographies, and Contracts'],    \n",
        "    df_series_plan_overview['Final Confirmations and Guest Notifications'],\n",
        "    df_series_plan_overview['Begin Dry Runs']): \n",
        "  ep = event_plan(title, start, end, description,'', id, start.tz, end.tz)\n",
        "  ep.add_milestone(\"Save the Date\", m_std.year, m_std.month, m_std.day,\"Send Save the Date Notifications\", id+\"-STD\")\n",
        "  ep.add_milestone(\"Call for Speakers\", m_cfs.year, m_cfs.month, m_cfs.day,\"Publish Call for Speakers\", id+\"-CFS\")\n",
        "  ep.add_milestone(\"Define Goals\", m_dg.year, m_dg.month, m_dg.day,\"Define Event Series Goals\", id+\"-DG\")\n",
        "  ep.add_milestone(\"Speakers, Location, and Promotion\", m_slp.year, m_slp.month, m_slp.day,\"Confirm Speakers and Location and begin Promotion\", id+\"-SLP\")\n",
        "  ep.add_milestone(\"Photos, Biographies, and Contracts\", m_pbc.year, m_pbc.month, m_pbc.day,\"Request Speaker Photos and Biographies and Confirm Speaker and Supplier Aggreements\", id+\"-PBC\")\n",
        "  ep.add_milestone(\"Final Confirmations and Guest Notifications\", m_fcgn.year, m_fcgn.month, m_fcgn.day,\"Finalize Speaker, Supplier, and Location Confirmations and Send Guest Notifications\", id+\"-FCGN\")\n",
        "  ep.add_milestone(\"Begin Dry Runs\", m_bdr.year, m_bdr.month, m_bdr.day,\"Begin Dry Runs\", id+\"-BDR\")\n",
        "  plans.append(ep)"
      ],
      "execution_count": null,
      "outputs": []
    },
    {
      "cell_type": "code",
      "metadata": {
        "colab": {
          "base_uri": "https://localhost:8080/"
        },
        "id": "mGd5QFFAVOu8",
        "outputId": "31abac29-96ea-4eae-fd6b-e74899af55d3"
      },
      "source": [
        "events = []\n",
        "for ep in plans:\n",
        "  events.extend(ep.get_google_events())\n",
        "events[0]"
      ],
      "execution_count": null,
      "outputs": [
        {
          "output_type": "execute_result",
          "data": {
            "text/plain": [
              "{'attendees': [],\n",
              " 'description': '**2022- Black Health and Wellness**\\n“When white folks catch a cold, Black folks get pneumonia.” This old saying, uttered by members of the African American community when economic disparities become grimmer, reveals how insidious anti-black racism is, even in medical metaphor form. In this particular pandemic moment, the disproportionate impact of disease on Black and Brown people, as well as other groups who face societal detriments against them, is wreaking havoc within this country and more broadly, our larger global society. The Centers for Disease Control and Prevention (CDC), reported the 1918 flu infected nearly 500 million people worldwide. This earlier pandemic caused 50 million deaths globally, including 675,000 in the Americas. Although Black Americans did not seem to have the same mortality rates during the 1918 Influenza pandemic, the full story reveals the reasons why Black people “allegedly” fared better. There was very little statistical research that included Black victims of the 1918 Influenza. Experts now believe there were far more deaths in the Black community during this time, but federal and state governments effaced Black people from data sets. During the 1918 flu epidemic in most cities across the United States, Black and Brown people who were infected were either tended to by family members or forced to utilized racially segregated and poorly funded “colored hospitals.” During this time, the Jim Crow era, Black patients often received substandard care because of the structural inequalities firmly set in place centuries ago (ex. underfunding and understaffed hospitals, racist white administrators, and overcrowding). Even in death, Black influenza victims were not shielded from anti-Blackness during the epidemic. In Baltimore, Mount Auburn, the city’s only cemetery for Black residents, was inundated with cadavers. White sanitation workers refused to dig ditches in whites-only cemeteries for dead black bodies. The social determinants of racism, segregation, and poverty impacted negatively Black people’s response to the deadliest epidemic of the 20th century.\\nFast forward to 2020 and similar patterns still exists during the Age of Covid-19 in overwhelmingly Black spaces. For example, due to overcrowding in residential spaces and hospitals, underfunding of hospitals, and Black people working in jobs that are low-wage ones that require public engagement, we are experiencing a medical catastrophe. In the hardest hit areas in the United States, like New York City, Black and Brown people have been twice as likely to die from COVID-19 as White people. Additionally, these cases have been concentrated in ZIP codes where residents are low wage earners, where people live in crowded apartments and cannot work from home, isolate from others, and flee to their vacation homes. Furthermore, in Washington, D.C., a city with a higher population of Black residents than even Mississippi, the “blackest” state, of 45% COVID-19 cases, 79% of that figure has resulted in the death of Black residents. Even more distressing news shows since April 2020, Black Americans have made up more than 80% of hospitalized COVID-19 patients in Georgia, a Blackbelt state, and almost all COVID-19 deaths in St. Louis. Similar trends have been seen for Black and South Asian patients in the United Kingdom. Brown and Black people in the global South are in near identical situations and like the United States, governments in South Asia and the UK are not responding to the specific needs of these victims. We are determined to create a platform that addresses these disparities through education and activism.\\n',\n",
              " 'end': {'dateTime': '2022-02-28T00:00:00', 'timeZone': 'GMT-5'},\n",
              " 'id': 'rec624as2npqkh15l',\n",
              " 'location': '',\n",
              " 'reminders': {'overrides': [], 'useDefault': True},\n",
              " 'start': {'dateTime': '2022-02-01T00:00:00', 'timeZone': 'GMT-5'},\n",
              " 'summary': 'Black History Month 2022 (February)'}"
            ]
          },
          "metadata": {
            "tags": []
          },
          "execution_count": 207
        }
      ]
    },
    {
      "cell_type": "code",
      "metadata": {
        "colab": {
          "base_uri": "https://localhost:8080/",
          "height": 387
        },
        "id": "1PFWXHE4qm6A",
        "outputId": "7833156d-e97b-459c-ceca-f0bdb83ebb0d"
      },
      "source": [
        "for e in events[1::]:\n",
        "  event = service.events().insert(calendarId=calendar_id, body=e).execute()\n",
        "  print('Event created: %s' % (event.get('htmlLink')))"
      ],
      "execution_count": null,
      "outputs": [
        {
          "output_type": "error",
          "ename": "HttpError",
          "evalue": "ignored",
          "traceback": [
            "\u001b[0;31m---------------------------------------------------------------------------\u001b[0m",
            "\u001b[0;31mHttpError\u001b[0m                                 Traceback (most recent call last)",
            "\u001b[0;32m<ipython-input-212-0bfeac7a0d18>\u001b[0m in \u001b[0;36m<module>\u001b[0;34m()\u001b[0m\n\u001b[1;32m      1\u001b[0m \u001b[0;32mfor\u001b[0m \u001b[0me\u001b[0m \u001b[0;32min\u001b[0m \u001b[0mevents\u001b[0m\u001b[0;34m[\u001b[0m\u001b[0;36m1\u001b[0m\u001b[0;34m:\u001b[0m\u001b[0;34m:\u001b[0m\u001b[0;34m]\u001b[0m\u001b[0;34m:\u001b[0m\u001b[0;34m\u001b[0m\u001b[0;34m\u001b[0m\u001b[0m\n\u001b[0;32m----> 2\u001b[0;31m   \u001b[0mevent\u001b[0m \u001b[0;34m=\u001b[0m \u001b[0mservice\u001b[0m\u001b[0;34m.\u001b[0m\u001b[0mevents\u001b[0m\u001b[0;34m(\u001b[0m\u001b[0;34m)\u001b[0m\u001b[0;34m.\u001b[0m\u001b[0minsert\u001b[0m\u001b[0;34m(\u001b[0m\u001b[0mcalendarId\u001b[0m\u001b[0;34m=\u001b[0m\u001b[0mcalendar_id\u001b[0m\u001b[0;34m,\u001b[0m \u001b[0mbody\u001b[0m\u001b[0;34m=\u001b[0m\u001b[0me\u001b[0m\u001b[0;34m)\u001b[0m\u001b[0;34m.\u001b[0m\u001b[0mexecute\u001b[0m\u001b[0;34m(\u001b[0m\u001b[0;34m)\u001b[0m\u001b[0;34m\u001b[0m\u001b[0;34m\u001b[0m\u001b[0m\n\u001b[0m\u001b[1;32m      3\u001b[0m   \u001b[0mprint\u001b[0m\u001b[0;34m(\u001b[0m\u001b[0;34m'Event created: %s'\u001b[0m \u001b[0;34m%\u001b[0m \u001b[0;34m(\u001b[0m\u001b[0mevent\u001b[0m\u001b[0;34m.\u001b[0m\u001b[0mget\u001b[0m\u001b[0;34m(\u001b[0m\u001b[0;34m'htmlLink'\u001b[0m\u001b[0;34m)\u001b[0m\u001b[0;34m)\u001b[0m\u001b[0;34m)\u001b[0m\u001b[0;34m\u001b[0m\u001b[0;34m\u001b[0m\u001b[0m\n",
            "\u001b[0;32m/usr/local/lib/python3.7/dist-packages/googleapiclient/_helpers.py\u001b[0m in \u001b[0;36mpositional_wrapper\u001b[0;34m(*args, **kwargs)\u001b[0m\n\u001b[1;32m    132\u001b[0m                 \u001b[0;32melif\u001b[0m \u001b[0mpositional_parameters_enforcement\u001b[0m \u001b[0;34m==\u001b[0m \u001b[0mPOSITIONAL_WARNING\u001b[0m\u001b[0;34m:\u001b[0m\u001b[0;34m\u001b[0m\u001b[0;34m\u001b[0m\u001b[0m\n\u001b[1;32m    133\u001b[0m                     \u001b[0mlogger\u001b[0m\u001b[0;34m.\u001b[0m\u001b[0mwarning\u001b[0m\u001b[0;34m(\u001b[0m\u001b[0mmessage\u001b[0m\u001b[0;34m)\u001b[0m\u001b[0;34m\u001b[0m\u001b[0;34m\u001b[0m\u001b[0m\n\u001b[0;32m--> 134\u001b[0;31m             \u001b[0;32mreturn\u001b[0m \u001b[0mwrapped\u001b[0m\u001b[0;34m(\u001b[0m\u001b[0;34m*\u001b[0m\u001b[0margs\u001b[0m\u001b[0;34m,\u001b[0m \u001b[0;34m**\u001b[0m\u001b[0mkwargs\u001b[0m\u001b[0;34m)\u001b[0m\u001b[0;34m\u001b[0m\u001b[0;34m\u001b[0m\u001b[0m\n\u001b[0m\u001b[1;32m    135\u001b[0m \u001b[0;34m\u001b[0m\u001b[0m\n\u001b[1;32m    136\u001b[0m         \u001b[0;32mreturn\u001b[0m \u001b[0mpositional_wrapper\u001b[0m\u001b[0;34m\u001b[0m\u001b[0;34m\u001b[0m\u001b[0m\n",
            "\u001b[0;32m/usr/local/lib/python3.7/dist-packages/googleapiclient/http.py\u001b[0m in \u001b[0;36mexecute\u001b[0;34m(self, http, num_retries)\u001b[0m\n\u001b[1;32m    913\u001b[0m             \u001b[0mcallback\u001b[0m\u001b[0;34m(\u001b[0m\u001b[0mresp\u001b[0m\u001b[0;34m)\u001b[0m\u001b[0;34m\u001b[0m\u001b[0;34m\u001b[0m\u001b[0m\n\u001b[1;32m    914\u001b[0m         \u001b[0;32mif\u001b[0m \u001b[0mresp\u001b[0m\u001b[0;34m.\u001b[0m\u001b[0mstatus\u001b[0m \u001b[0;34m>=\u001b[0m \u001b[0;36m300\u001b[0m\u001b[0;34m:\u001b[0m\u001b[0;34m\u001b[0m\u001b[0;34m\u001b[0m\u001b[0m\n\u001b[0;32m--> 915\u001b[0;31m             \u001b[0;32mraise\u001b[0m \u001b[0mHttpError\u001b[0m\u001b[0;34m(\u001b[0m\u001b[0mresp\u001b[0m\u001b[0;34m,\u001b[0m \u001b[0mcontent\u001b[0m\u001b[0;34m,\u001b[0m \u001b[0muri\u001b[0m\u001b[0;34m=\u001b[0m\u001b[0mself\u001b[0m\u001b[0;34m.\u001b[0m\u001b[0muri\u001b[0m\u001b[0;34m)\u001b[0m\u001b[0;34m\u001b[0m\u001b[0;34m\u001b[0m\u001b[0m\n\u001b[0m\u001b[1;32m    916\u001b[0m         \u001b[0;32mreturn\u001b[0m \u001b[0mself\u001b[0m\u001b[0;34m.\u001b[0m\u001b[0mpostproc\u001b[0m\u001b[0;34m(\u001b[0m\u001b[0mresp\u001b[0m\u001b[0;34m,\u001b[0m \u001b[0mcontent\u001b[0m\u001b[0;34m)\u001b[0m\u001b[0;34m\u001b[0m\u001b[0;34m\u001b[0m\u001b[0m\n\u001b[1;32m    917\u001b[0m \u001b[0;34m\u001b[0m\u001b[0m\n",
            "\u001b[0;31mHttpError\u001b[0m: <HttpError 400 when requesting https://www.googleapis.com/calendar/v3/calendars/9jic3up36k2i94jfid9jaqf9rk%40group.calendar.google.com/events?alt=json returned \"Invalid resource id value.\". Details: \"Invalid resource id value.\">"
          ]
        }
      ]
    },
    {
      "cell_type": "code",
      "metadata": {
        "colab": {
          "base_uri": "https://localhost:8080/",
          "height": 203
        },
        "id": "jpm7PIh8V8WF",
        "outputId": "c0fba0f4-2753-4fc4-88ff-9c241ffdd673"
      },
      "source": [
        "e = events[0]\n",
        "#event = service.events().delete(calendarId=calendar_id, eventId=e['id']).execute()\n",
        "#event = service.events().update(calendarId=calendar_id, body=e, eventId=e['id']).execute()\n",
        "#event = service.events().insert(calendarId=calendar_id, body=e).execute()\n",
        "print('Event created: %s' % (event.get('htmlLink')))\n"
      ],
      "execution_count": null,
      "outputs": [
        {
          "output_type": "error",
          "ename": "AttributeError",
          "evalue": "ignored",
          "traceback": [
            "\u001b[0;31m---------------------------------------------------------------------------\u001b[0m",
            "\u001b[0;31mAttributeError\u001b[0m                            Traceback (most recent call last)",
            "\u001b[0;32m<ipython-input-210-4d5a612d3595>\u001b[0m in \u001b[0;36m<module>\u001b[0;34m()\u001b[0m\n\u001b[1;32m      3\u001b[0m \u001b[0;31m#event = service.events().update(calendarId=calendar_id, body=e, eventId=e['id']).execute()\u001b[0m\u001b[0;34m\u001b[0m\u001b[0;34m\u001b[0m\u001b[0;34m\u001b[0m\u001b[0m\n\u001b[1;32m      4\u001b[0m \u001b[0;31m#event = service.events().insert(calendarId=calendar_id, body=e).execute()\u001b[0m\u001b[0;34m\u001b[0m\u001b[0;34m\u001b[0m\u001b[0;34m\u001b[0m\u001b[0m\n\u001b[0;32m----> 5\u001b[0;31m \u001b[0mprint\u001b[0m\u001b[0;34m(\u001b[0m\u001b[0;34m'Event created: %s'\u001b[0m \u001b[0;34m%\u001b[0m \u001b[0;34m(\u001b[0m\u001b[0mevent\u001b[0m\u001b[0;34m.\u001b[0m\u001b[0mget\u001b[0m\u001b[0;34m(\u001b[0m\u001b[0;34m'htmlLink'\u001b[0m\u001b[0;34m)\u001b[0m\u001b[0;34m)\u001b[0m\u001b[0;34m)\u001b[0m\u001b[0;34m\u001b[0m\u001b[0;34m\u001b[0m\u001b[0m\n\u001b[0m",
            "\u001b[0;31mAttributeError\u001b[0m: 'str' object has no attribute 'get'"
          ]
        }
      ]
    },
    {
      "cell_type": "code",
      "metadata": {
        "id": "SQUePQJVSZPo"
      },
      "source": [
        "def add_plan_events(milestones, calendar_id):\n",
        "  events = []\n",
        "\n",
        "  event = {\n",
        "    'summary': 'Google I/O 2015',\n",
        "    'location': '800 Howard St., San Francisco, CA 94103',\n",
        "    'description': 'A chance to hear more about Google\\'s developer products.',\n",
        "    'start': {\n",
        "      'dateTime': '2015-05-28T09:00:00-07:00',\n",
        "      'timeZone': 'America/Los_Angeles',\n",
        "    },\n",
        "    'end': {\n",
        "      'dateTime': '2015-05-28T17:00:00-07:00',\n",
        "      'timeZone': 'America/Los_Angeles',\n",
        "    },\n",
        "    'recurrence': [\n",
        "      'RRULE:FREQ=DAILY;COUNT=2'\n",
        "    ],\n",
        "    'attendees': [\n",
        "      {'email': 'lpage@example.com'},\n",
        "      {'email': 'sbrin@example.com'},\n",
        "    ],\n",
        "    'reminders': {\n",
        "      'useDefault': False,\n",
        "      'overrides': [\n",
        "        {'method': 'email', 'minutes': 24 * 60},\n",
        "        {'method': 'popup', 'minutes': 10},\n",
        "      ],\n",
        "    },\n",
        "  }\n",
        "\n",
        "  return events"
      ],
      "execution_count": null,
      "outputs": []
    },
    {
      "cell_type": "code",
      "metadata": {
        "id": "mac6rEHZlXNq"
      },
      "source": [
        ""
      ],
      "execution_count": null,
      "outputs": []
    }
  ]
}